{
 "cells": [
  {
   "cell_type": "markdown",
   "metadata": {},
   "source": [
    "# Assignment 2"
   ]
  },
  {
   "cell_type": "markdown",
   "metadata": {},
   "source": [
    "## *The adverse health effects of air pollution - are we making any progress?*"
   ]
  },
  {
   "cell_type": "markdown",
   "metadata": {},
   "source": [
    "<p><img src=files/air.jpg width=\"900\"></p>\n",
    "<p><strong>Credit:</strong>  <a href=\"https://www.flickr.com/people/44221799@N08/\">Flickr/E4C</a> </p>"
   ]
  },
  {
   "cell_type": "code",
   "execution_count": 1,
   "metadata": {},
   "outputs": [],
   "source": [
    "# Load relevant packages\n",
    "import pandas as pd\n",
    "import numpy as np\n",
    "import matplotlib.pyplot as plt\n",
    "import seaborn as sns\n",
    "import statsmodels.formula.api as sm\n",
    "import warnings\n",
    "import re\n",
    "\n",
    "warnings.filterwarnings(\"ignore\")  # Suppress all warnings"
   ]
  },
  {
   "cell_type": "markdown",
   "metadata": {},
   "source": [
    "<h2>Introduction</h2>\n",
    "<p><strong>Business Context.</strong> Air pollution is a very serious issue that the global population is currently dealing with. The abundance of air pollutants is not only contributing to global warming, but it is also causing problematic health issues to the population. There have been numerous efforts to protect and improve air quality across most nations. However, it seems that we are making very little progress. One of the main causes of this is the fact that the majority of air pollutants are derived from the burning of fossil fuels such as <em>coal</em>. Big industries and several other economical and political factors have slowed the progress towards the use of renewable energy by promoting the use of fossil fuels. Nevertheless, if we educate the general population and create awareness of this issue, we will be able to overcome this problem in the future.      </p>\n",
    "<p>For this case, you have been hired as a data science consultant for an important environmental organization. In order to promote awareness of environmental and greenhouse gas issues, your client is interested in a study of <strong>plausible impacts of air contamination on the health of the global population</strong>. They have gathered some <em>raw</em> data provided by the <a href=\"https://www.who.int/\">World Health Organization</a>, <a href=\"http://www.healthdata.org/\">The Institute for Health Metrics and Evaluation</a> and the <a href=\"https://www.worldbank.org/\">World Bank Group</a>. Your task is to conduct data analysis, search for potential information, and create visualizations that the client can use for their campaigns and grant applications. </p>\n",
    "<p><strong>Analytical Context.</strong> You are given a folder, named <code>files</code> with <em>raw</em> data. This data contains quite a large number of variables and it is in a fairly disorganized state. In addition, one of the datasets contains very poor documentation, segmented into several datasets. Your objective will be to:</p>\n",
    "<ol>\n",
    "<li>Extract and clean the relevant data. You will have to manipulate several datasets to obtain useful information for the case. </li>\n",
    "<li>Conduct Exploratory Data Analysis. You will have to create meaningful plots, formulate meaningful hypotheses and study the relationship between various indicators related to air pollution.</li>\n",
    "</ol>\n",
    "<p>Additionally, the client has some broad questions they would like to answer:<br />\n",
    "1. Are we making any progress in reducing the amount of emitted pollutants across the globe?<br />\n",
    "2. Which are the critical regions where we should start environmental campaigns?<br />\n",
    "3. Are we making any progress in the prevention of deaths related to air pollution?<br />\n",
    "4. Which demographic characteristics seem to correlate with the number of health-related issues derived from air pollution? </p>"
   ]
  },
  {
   "cell_type": "markdown",
   "metadata": {},
   "source": [
    "<h2>Extracting and cleaning relevant data</h2>\n",
    "<p>Let's take a look at the data provided by the client in the <code>files</code> folder. There, we see another folder  named <code>WDI_csv</code> with several CSV files corresponding to the World Bank's primary <a href=\"https://datacatalog.worldbank.org/dataset/world-development-indicators\">World Development Indicators</a>. The client stated that this data may contain some useful information relevant to our study, but they have not told us anything aside from that. Thus, we are on our own in finding and extracting the relevant data for our study. This we will do next. </p>\n",
    "<p>Let's take a peek at the file <code>WDIData.csv</code>:</p>"
   ]
  },
  {
   "cell_type": "code",
   "execution_count": 2,
   "metadata": {},
   "outputs": [
    {
     "name": "stdout",
     "output_type": "stream",
     "text": [
      "Index(['Country Name', 'Country Code', 'Indicator Name', 'Indicator Code',\n",
      "       '1960', '1961', '1962', '1963', '1964', '1965', '1966', '1967', '1968',\n",
      "       '1969', '1970', '1971', '1972', '1973', '1974', '1975', '1976', '1977',\n",
      "       '1978', '1979', '1980', '1981', '1982', '1983', '1984', '1985', '1986',\n",
      "       '1987', '1988', '1989', '1990', '1991', '1992', '1993', '1994', '1995',\n",
      "       '1996', '1997', '1998', '1999', '2000', '2001', '2002', '2003', '2004',\n",
      "       '2005', '2006', '2007', '2008', '2009', '2010', '2011', '2012', '2013',\n",
      "       '2014', '2015', '2016', '2017', '2018', '2019', 'Unnamed: 64'],\n",
      "      dtype='object')\n",
      "<class 'pandas.core.frame.DataFrame'>\n",
      "RangeIndex: 377256 entries, 0 to 377255\n",
      "Data columns (total 65 columns):\n",
      " #   Column          Non-Null Count   Dtype  \n",
      "---  ------          --------------   -----  \n",
      " 0   Country Name    377256 non-null  object \n",
      " 1   Country Code    377256 non-null  object \n",
      " 2   Indicator Name  377256 non-null  object \n",
      " 3   Indicator Code  377256 non-null  object \n",
      " 4   1960            37395 non-null   float64\n",
      " 5   1961            41211 non-null   float64\n",
      " 6   1962            43413 non-null   float64\n",
      " 7   1963            43324 non-null   float64\n",
      " 8   1964            43861 non-null   float64\n",
      " 9   1965            46306 non-null   float64\n",
      " 10  1966            46087 non-null   float64\n",
      " 11  1967            47840 non-null   float64\n",
      " 12  1968            47422 non-null   float64\n",
      " 13  1969            49112 non-null   float64\n",
      " 14  1970            69736 non-null   float64\n",
      " 15  1971            76073 non-null   float64\n",
      " 16  1972            78854 non-null   float64\n",
      " 17  1973            78402 non-null   float64\n",
      " 18  1974            79804 non-null   float64\n",
      " 19  1975            83728 non-null   float64\n",
      " 20  1976            85833 non-null   float64\n",
      " 21  1977            89303 non-null   float64\n",
      " 22  1978            88911 non-null   float64\n",
      " 23  1979            89707 non-null   float64\n",
      " 24  1980            94479 non-null   float64\n",
      " 25  1981            96363 non-null   float64\n",
      " 26  1982            97575 non-null   float64\n",
      " 27  1983            97385 non-null   float64\n",
      " 28  1984            98228 non-null   float64\n",
      " 29  1985            99450 non-null   float64\n",
      " 30  1986            100294 non-null  float64\n",
      " 31  1987            101654 non-null  float64\n",
      " 32  1988            101307 non-null  float64\n",
      " 33  1989            103060 non-null  float64\n",
      " 34  1990            126117 non-null  float64\n",
      " 35  1991            131212 non-null  float64\n",
      " 36  1992            135229 non-null  float64\n",
      " 37  1993            136645 non-null  float64\n",
      " 38  1994            138646 non-null  float64\n",
      " 39  1995            146560 non-null  float64\n",
      " 40  1996            146450 non-null  float64\n",
      " 41  1997            147530 non-null  float64\n",
      " 42  1998            149527 non-null  float64\n",
      " 43  1999            154659 non-null  float64\n",
      " 44  2000            179600 non-null  float64\n",
      " 45  2001            169874 non-null  float64\n",
      " 46  2002            174693 non-null  float64\n",
      " 47  2003            175686 non-null  float64\n",
      " 48  2004            180936 non-null  float64\n",
      " 49  2005            194452 non-null  float64\n",
      " 50  2006            192699 non-null  float64\n",
      " 51  2007            196798 non-null  float64\n",
      " 52  2008            195843 non-null  float64\n",
      " 53  2009            196888 non-null  float64\n",
      " 54  2010            211863 non-null  float64\n",
      " 55  2011            203080 non-null  float64\n",
      " 56  2012            204810 non-null  float64\n",
      " 57  2013            200522 non-null  float64\n",
      " 58  2014            206201 non-null  float64\n",
      " 59  2015            201043 non-null  float64\n",
      " 60  2016            197174 non-null  float64\n",
      " 61  2017            176112 non-null  float64\n",
      " 62  2018            126115 non-null  float64\n",
      " 63  2019            21481 non-null   float64\n",
      " 64  Unnamed: 64     0 non-null       float64\n",
      "dtypes: float64(61), object(4)\n",
      "memory usage: 187.1+ MB\n",
      "None\n"
     ]
    },
    {
     "data": {
      "text/html": [
       "<div>\n",
       "<style scoped>\n",
       "    .dataframe tbody tr th:only-of-type {\n",
       "        vertical-align: middle;\n",
       "    }\n",
       "\n",
       "    .dataframe tbody tr th {\n",
       "        vertical-align: top;\n",
       "    }\n",
       "\n",
       "    .dataframe thead th {\n",
       "        text-align: right;\n",
       "    }\n",
       "</style>\n",
       "<table border=\"1\" class=\"dataframe\">\n",
       "  <thead>\n",
       "    <tr style=\"text-align: right;\">\n",
       "      <th></th>\n",
       "      <th>Country Name</th>\n",
       "      <th>Country Code</th>\n",
       "      <th>Indicator Name</th>\n",
       "      <th>Indicator Code</th>\n",
       "      <th>1960</th>\n",
       "      <th>1961</th>\n",
       "      <th>1962</th>\n",
       "      <th>1963</th>\n",
       "      <th>1964</th>\n",
       "      <th>1965</th>\n",
       "      <th>...</th>\n",
       "      <th>2011</th>\n",
       "      <th>2012</th>\n",
       "      <th>2013</th>\n",
       "      <th>2014</th>\n",
       "      <th>2015</th>\n",
       "      <th>2016</th>\n",
       "      <th>2017</th>\n",
       "      <th>2018</th>\n",
       "      <th>2019</th>\n",
       "      <th>Unnamed: 64</th>\n",
       "    </tr>\n",
       "  </thead>\n",
       "  <tbody>\n",
       "    <tr>\n",
       "      <th>0</th>\n",
       "      <td>Arab World</td>\n",
       "      <td>ARB</td>\n",
       "      <td>2005 PPP conversion factor, GDP (LCU per inter...</td>\n",
       "      <td>PA.NUS.PPP.05</td>\n",
       "      <td>NaN</td>\n",
       "      <td>NaN</td>\n",
       "      <td>NaN</td>\n",
       "      <td>NaN</td>\n",
       "      <td>NaN</td>\n",
       "      <td>NaN</td>\n",
       "      <td>...</td>\n",
       "      <td>NaN</td>\n",
       "      <td>NaN</td>\n",
       "      <td>NaN</td>\n",
       "      <td>NaN</td>\n",
       "      <td>NaN</td>\n",
       "      <td>NaN</td>\n",
       "      <td>NaN</td>\n",
       "      <td>NaN</td>\n",
       "      <td>NaN</td>\n",
       "      <td>NaN</td>\n",
       "    </tr>\n",
       "    <tr>\n",
       "      <th>1</th>\n",
       "      <td>Arab World</td>\n",
       "      <td>ARB</td>\n",
       "      <td>2005 PPP conversion factor, private consumptio...</td>\n",
       "      <td>PA.NUS.PRVT.PP.05</td>\n",
       "      <td>NaN</td>\n",
       "      <td>NaN</td>\n",
       "      <td>NaN</td>\n",
       "      <td>NaN</td>\n",
       "      <td>NaN</td>\n",
       "      <td>NaN</td>\n",
       "      <td>...</td>\n",
       "      <td>NaN</td>\n",
       "      <td>NaN</td>\n",
       "      <td>NaN</td>\n",
       "      <td>NaN</td>\n",
       "      <td>NaN</td>\n",
       "      <td>NaN</td>\n",
       "      <td>NaN</td>\n",
       "      <td>NaN</td>\n",
       "      <td>NaN</td>\n",
       "      <td>NaN</td>\n",
       "    </tr>\n",
       "    <tr>\n",
       "      <th>2</th>\n",
       "      <td>Arab World</td>\n",
       "      <td>ARB</td>\n",
       "      <td>Access to clean fuels and technologies for coo...</td>\n",
       "      <td>EG.CFT.ACCS.ZS</td>\n",
       "      <td>NaN</td>\n",
       "      <td>NaN</td>\n",
       "      <td>NaN</td>\n",
       "      <td>NaN</td>\n",
       "      <td>NaN</td>\n",
       "      <td>NaN</td>\n",
       "      <td>...</td>\n",
       "      <td>82.783289</td>\n",
       "      <td>83.120303</td>\n",
       "      <td>83.533457</td>\n",
       "      <td>83.897596</td>\n",
       "      <td>84.171599</td>\n",
       "      <td>84.510171</td>\n",
       "      <td>NaN</td>\n",
       "      <td>NaN</td>\n",
       "      <td>NaN</td>\n",
       "      <td>NaN</td>\n",
       "    </tr>\n",
       "    <tr>\n",
       "      <th>3</th>\n",
       "      <td>Arab World</td>\n",
       "      <td>ARB</td>\n",
       "      <td>Access to electricity (% of population)</td>\n",
       "      <td>EG.ELC.ACCS.ZS</td>\n",
       "      <td>NaN</td>\n",
       "      <td>NaN</td>\n",
       "      <td>NaN</td>\n",
       "      <td>NaN</td>\n",
       "      <td>NaN</td>\n",
       "      <td>NaN</td>\n",
       "      <td>...</td>\n",
       "      <td>86.428272</td>\n",
       "      <td>87.070576</td>\n",
       "      <td>88.176836</td>\n",
       "      <td>87.342739</td>\n",
       "      <td>89.130121</td>\n",
       "      <td>89.678685</td>\n",
       "      <td>90.273687</td>\n",
       "      <td>NaN</td>\n",
       "      <td>NaN</td>\n",
       "      <td>NaN</td>\n",
       "    </tr>\n",
       "    <tr>\n",
       "      <th>4</th>\n",
       "      <td>Arab World</td>\n",
       "      <td>ARB</td>\n",
       "      <td>Access to electricity, rural (% of rural popul...</td>\n",
       "      <td>EG.ELC.ACCS.RU.ZS</td>\n",
       "      <td>NaN</td>\n",
       "      <td>NaN</td>\n",
       "      <td>NaN</td>\n",
       "      <td>NaN</td>\n",
       "      <td>NaN</td>\n",
       "      <td>NaN</td>\n",
       "      <td>...</td>\n",
       "      <td>73.942103</td>\n",
       "      <td>75.244104</td>\n",
       "      <td>77.162305</td>\n",
       "      <td>75.538976</td>\n",
       "      <td>78.741152</td>\n",
       "      <td>79.665635</td>\n",
       "      <td>80.749293</td>\n",
       "      <td>NaN</td>\n",
       "      <td>NaN</td>\n",
       "      <td>NaN</td>\n",
       "    </tr>\n",
       "  </tbody>\n",
       "</table>\n",
       "<p>5 rows × 65 columns</p>\n",
       "</div>"
      ],
      "text/plain": [
       "  Country Name Country Code  \\\n",
       "0   Arab World          ARB   \n",
       "1   Arab World          ARB   \n",
       "2   Arab World          ARB   \n",
       "3   Arab World          ARB   \n",
       "4   Arab World          ARB   \n",
       "\n",
       "                                      Indicator Name     Indicator Code  1960  \\\n",
       "0  2005 PPP conversion factor, GDP (LCU per inter...      PA.NUS.PPP.05   NaN   \n",
       "1  2005 PPP conversion factor, private consumptio...  PA.NUS.PRVT.PP.05   NaN   \n",
       "2  Access to clean fuels and technologies for coo...     EG.CFT.ACCS.ZS   NaN   \n",
       "3            Access to electricity (% of population)     EG.ELC.ACCS.ZS   NaN   \n",
       "4  Access to electricity, rural (% of rural popul...  EG.ELC.ACCS.RU.ZS   NaN   \n",
       "\n",
       "   1961  1962  1963  1964  1965  ...       2011       2012       2013  \\\n",
       "0   NaN   NaN   NaN   NaN   NaN  ...        NaN        NaN        NaN   \n",
       "1   NaN   NaN   NaN   NaN   NaN  ...        NaN        NaN        NaN   \n",
       "2   NaN   NaN   NaN   NaN   NaN  ...  82.783289  83.120303  83.533457   \n",
       "3   NaN   NaN   NaN   NaN   NaN  ...  86.428272  87.070576  88.176836   \n",
       "4   NaN   NaN   NaN   NaN   NaN  ...  73.942103  75.244104  77.162305   \n",
       "\n",
       "        2014       2015       2016       2017  2018  2019  Unnamed: 64  \n",
       "0        NaN        NaN        NaN        NaN   NaN   NaN          NaN  \n",
       "1        NaN        NaN        NaN        NaN   NaN   NaN          NaN  \n",
       "2  83.897596  84.171599  84.510171        NaN   NaN   NaN          NaN  \n",
       "3  87.342739  89.130121  89.678685  90.273687   NaN   NaN          NaN  \n",
       "4  75.538976  78.741152  79.665635  80.749293   NaN   NaN          NaN  \n",
       "\n",
       "[5 rows x 65 columns]"
      ]
     },
     "execution_count": 2,
     "metadata": {},
     "output_type": "execute_result"
    }
   ],
   "source": [
    "WDI_data = pd.read_csv(\"./files/WDI_csv/WDIData.csv\")\n",
    "print(WDI_data.columns)\n",
    "print(WDI_data.info())\n",
    "WDI_data.head()"
   ]
  },
  {
   "cell_type": "markdown",
   "metadata": {},
   "source": [
    "<p>The data seems to have a large number of indicators dating from 1960. There are also columns containing country names and codes. Notice that the first couple of rows say <code>Arab World</code>, which may indicate that the data contains broad regional data as well. We notice also that there are at least 100,000 entries with <code>NaN</code> values for each year column.</p>\n",
    "<p>Since we are interested in environmental indicators, we must get rid of any rows not relevant to our study. However, the number of indicators seems to be quite large and a manual inspection seems impossible. Let's load the file <code>WDISeries.csv</code> which seems to contain more information about the indicators:</p>"
   ]
  },
  {
   "cell_type": "code",
   "execution_count": 3,
   "metadata": {},
   "outputs": [
    {
     "name": "stdout",
     "output_type": "stream",
     "text": [
      "Index(['Series Code', 'Topic', 'Indicator Name', 'Short definition',\n",
      "       'Long definition', 'Unit of measure', 'Periodicity', 'Base Period',\n",
      "       'Other notes', 'Aggregation method', 'Limitations and exceptions',\n",
      "       'Notes from original source', 'General comments', 'Source',\n",
      "       'Statistical concept and methodology', 'Development relevance',\n",
      "       'Related source links', 'Other web links', 'Related indicators',\n",
      "       'License Type', 'Unnamed: 20'],\n",
      "      dtype='object')\n"
     ]
    },
    {
     "data": {
      "text/html": [
       "<div>\n",
       "<style scoped>\n",
       "    .dataframe tbody tr th:only-of-type {\n",
       "        vertical-align: middle;\n",
       "    }\n",
       "\n",
       "    .dataframe tbody tr th {\n",
       "        vertical-align: top;\n",
       "    }\n",
       "\n",
       "    .dataframe thead th {\n",
       "        text-align: right;\n",
       "    }\n",
       "</style>\n",
       "<table border=\"1\" class=\"dataframe\">\n",
       "  <thead>\n",
       "    <tr style=\"text-align: right;\">\n",
       "      <th></th>\n",
       "      <th>Series Code</th>\n",
       "      <th>Topic</th>\n",
       "      <th>Indicator Name</th>\n",
       "      <th>Short definition</th>\n",
       "      <th>Long definition</th>\n",
       "      <th>Unit of measure</th>\n",
       "      <th>Periodicity</th>\n",
       "      <th>Base Period</th>\n",
       "      <th>Other notes</th>\n",
       "      <th>Aggregation method</th>\n",
       "      <th>...</th>\n",
       "      <th>Notes from original source</th>\n",
       "      <th>General comments</th>\n",
       "      <th>Source</th>\n",
       "      <th>Statistical concept and methodology</th>\n",
       "      <th>Development relevance</th>\n",
       "      <th>Related source links</th>\n",
       "      <th>Other web links</th>\n",
       "      <th>Related indicators</th>\n",
       "      <th>License Type</th>\n",
       "      <th>Unnamed: 20</th>\n",
       "    </tr>\n",
       "  </thead>\n",
       "  <tbody>\n",
       "    <tr>\n",
       "      <th>0</th>\n",
       "      <td>AG.AGR.TRAC.NO</td>\n",
       "      <td>Environment: Agricultural production</td>\n",
       "      <td>Agricultural machinery, tractors</td>\n",
       "      <td>NaN</td>\n",
       "      <td>Agricultural machinery refers to the number of...</td>\n",
       "      <td>NaN</td>\n",
       "      <td>Annual</td>\n",
       "      <td>NaN</td>\n",
       "      <td>NaN</td>\n",
       "      <td>Sum</td>\n",
       "      <td>...</td>\n",
       "      <td>NaN</td>\n",
       "      <td>NaN</td>\n",
       "      <td>Food and Agriculture Organization, electronic ...</td>\n",
       "      <td>A tractor provides the power and traction to m...</td>\n",
       "      <td>Agricultural land covers more than one-third o...</td>\n",
       "      <td>NaN</td>\n",
       "      <td>NaN</td>\n",
       "      <td>NaN</td>\n",
       "      <td>CC BY-4.0</td>\n",
       "      <td>NaN</td>\n",
       "    </tr>\n",
       "    <tr>\n",
       "      <th>1</th>\n",
       "      <td>AG.CON.FERT.PT.ZS</td>\n",
       "      <td>Environment: Agricultural production</td>\n",
       "      <td>Fertilizer consumption (% of fertilizer produc...</td>\n",
       "      <td>NaN</td>\n",
       "      <td>Fertilizer consumption measures the quantity o...</td>\n",
       "      <td>NaN</td>\n",
       "      <td>Annual</td>\n",
       "      <td>NaN</td>\n",
       "      <td>NaN</td>\n",
       "      <td>Weighted average</td>\n",
       "      <td>...</td>\n",
       "      <td>NaN</td>\n",
       "      <td>NaN</td>\n",
       "      <td>Food and Agriculture Organization, electronic ...</td>\n",
       "      <td>Fertilizer consumption measures the quantity o...</td>\n",
       "      <td>Factors such as the green revolution, has led ...</td>\n",
       "      <td>NaN</td>\n",
       "      <td>NaN</td>\n",
       "      <td>NaN</td>\n",
       "      <td>CC BY-4.0</td>\n",
       "      <td>NaN</td>\n",
       "    </tr>\n",
       "    <tr>\n",
       "      <th>2</th>\n",
       "      <td>AG.CON.FERT.ZS</td>\n",
       "      <td>Environment: Agricultural production</td>\n",
       "      <td>Fertilizer consumption (kilograms per hectare ...</td>\n",
       "      <td>NaN</td>\n",
       "      <td>Fertilizer consumption measures the quantity o...</td>\n",
       "      <td>NaN</td>\n",
       "      <td>Annual</td>\n",
       "      <td>NaN</td>\n",
       "      <td>NaN</td>\n",
       "      <td>Weighted average</td>\n",
       "      <td>...</td>\n",
       "      <td>NaN</td>\n",
       "      <td>NaN</td>\n",
       "      <td>Food and Agriculture Organization, electronic ...</td>\n",
       "      <td>Fertilizer consumption measures the quantity o...</td>\n",
       "      <td>Factors such as the green revolution, has led ...</td>\n",
       "      <td>NaN</td>\n",
       "      <td>NaN</td>\n",
       "      <td>NaN</td>\n",
       "      <td>CC BY-4.0</td>\n",
       "      <td>NaN</td>\n",
       "    </tr>\n",
       "    <tr>\n",
       "      <th>3</th>\n",
       "      <td>AG.LND.AGRI.K2</td>\n",
       "      <td>Environment: Land use</td>\n",
       "      <td>Agricultural land (sq. km)</td>\n",
       "      <td>NaN</td>\n",
       "      <td>Agricultural land refers to the share of land ...</td>\n",
       "      <td>NaN</td>\n",
       "      <td>Annual</td>\n",
       "      <td>NaN</td>\n",
       "      <td>NaN</td>\n",
       "      <td>Sum</td>\n",
       "      <td>...</td>\n",
       "      <td>NaN</td>\n",
       "      <td>NaN</td>\n",
       "      <td>Food and Agriculture Organization, electronic ...</td>\n",
       "      <td>Agricultural land constitutes only a part of a...</td>\n",
       "      <td>Agricultural land covers more than one-third o...</td>\n",
       "      <td>NaN</td>\n",
       "      <td>NaN</td>\n",
       "      <td>NaN</td>\n",
       "      <td>CC BY-4.0</td>\n",
       "      <td>NaN</td>\n",
       "    </tr>\n",
       "    <tr>\n",
       "      <th>4</th>\n",
       "      <td>AG.LND.AGRI.ZS</td>\n",
       "      <td>Environment: Land use</td>\n",
       "      <td>Agricultural land (% of land area)</td>\n",
       "      <td>NaN</td>\n",
       "      <td>Agricultural land refers to the share of land ...</td>\n",
       "      <td>NaN</td>\n",
       "      <td>Annual</td>\n",
       "      <td>NaN</td>\n",
       "      <td>NaN</td>\n",
       "      <td>Weighted average</td>\n",
       "      <td>...</td>\n",
       "      <td>NaN</td>\n",
       "      <td>NaN</td>\n",
       "      <td>Food and Agriculture Organization, electronic ...</td>\n",
       "      <td>Agriculture is still a major sector in many ec...</td>\n",
       "      <td>Agricultural land covers more than one-third o...</td>\n",
       "      <td>NaN</td>\n",
       "      <td>NaN</td>\n",
       "      <td>NaN</td>\n",
       "      <td>CC BY-4.0</td>\n",
       "      <td>NaN</td>\n",
       "    </tr>\n",
       "  </tbody>\n",
       "</table>\n",
       "<p>5 rows × 21 columns</p>\n",
       "</div>"
      ],
      "text/plain": [
       "         Series Code                                 Topic  \\\n",
       "0     AG.AGR.TRAC.NO  Environment: Agricultural production   \n",
       "1  AG.CON.FERT.PT.ZS  Environment: Agricultural production   \n",
       "2     AG.CON.FERT.ZS  Environment: Agricultural production   \n",
       "3     AG.LND.AGRI.K2                 Environment: Land use   \n",
       "4     AG.LND.AGRI.ZS                 Environment: Land use   \n",
       "\n",
       "                                      Indicator Name Short definition  \\\n",
       "0                   Agricultural machinery, tractors              NaN   \n",
       "1  Fertilizer consumption (% of fertilizer produc...              NaN   \n",
       "2  Fertilizer consumption (kilograms per hectare ...              NaN   \n",
       "3                         Agricultural land (sq. km)              NaN   \n",
       "4                 Agricultural land (% of land area)              NaN   \n",
       "\n",
       "                                     Long definition Unit of measure  \\\n",
       "0  Agricultural machinery refers to the number of...             NaN   \n",
       "1  Fertilizer consumption measures the quantity o...             NaN   \n",
       "2  Fertilizer consumption measures the quantity o...             NaN   \n",
       "3  Agricultural land refers to the share of land ...             NaN   \n",
       "4  Agricultural land refers to the share of land ...             NaN   \n",
       "\n",
       "  Periodicity Base Period Other notes Aggregation method  ...  \\\n",
       "0      Annual         NaN         NaN                Sum  ...   \n",
       "1      Annual         NaN         NaN   Weighted average  ...   \n",
       "2      Annual         NaN         NaN   Weighted average  ...   \n",
       "3      Annual         NaN         NaN                Sum  ...   \n",
       "4      Annual         NaN         NaN   Weighted average  ...   \n",
       "\n",
       "  Notes from original source General comments  \\\n",
       "0                        NaN              NaN   \n",
       "1                        NaN              NaN   \n",
       "2                        NaN              NaN   \n",
       "3                        NaN              NaN   \n",
       "4                        NaN              NaN   \n",
       "\n",
       "                                              Source  \\\n",
       "0  Food and Agriculture Organization, electronic ...   \n",
       "1  Food and Agriculture Organization, electronic ...   \n",
       "2  Food and Agriculture Organization, electronic ...   \n",
       "3  Food and Agriculture Organization, electronic ...   \n",
       "4  Food and Agriculture Organization, electronic ...   \n",
       "\n",
       "                 Statistical concept and methodology  \\\n",
       "0  A tractor provides the power and traction to m...   \n",
       "1  Fertilizer consumption measures the quantity o...   \n",
       "2  Fertilizer consumption measures the quantity o...   \n",
       "3  Agricultural land constitutes only a part of a...   \n",
       "4  Agriculture is still a major sector in many ec...   \n",
       "\n",
       "                               Development relevance Related source links  \\\n",
       "0  Agricultural land covers more than one-third o...                  NaN   \n",
       "1  Factors such as the green revolution, has led ...                  NaN   \n",
       "2  Factors such as the green revolution, has led ...                  NaN   \n",
       "3  Agricultural land covers more than one-third o...                  NaN   \n",
       "4  Agricultural land covers more than one-third o...                  NaN   \n",
       "\n",
       "  Other web links  Related indicators License Type Unnamed: 20  \n",
       "0             NaN                 NaN    CC BY-4.0         NaN  \n",
       "1             NaN                 NaN    CC BY-4.0         NaN  \n",
       "2             NaN                 NaN    CC BY-4.0         NaN  \n",
       "3             NaN                 NaN    CC BY-4.0         NaN  \n",
       "4             NaN                 NaN    CC BY-4.0         NaN  \n",
       "\n",
       "[5 rows x 21 columns]"
      ]
     },
     "execution_count": 3,
     "metadata": {},
     "output_type": "execute_result"
    }
   ],
   "source": [
    "WDI_ids = pd.read_csv(\"./files/WDI_csv/WDISeries.csv\")\n",
    "print(WDI_ids.columns)\n",
    "WDI_ids.head()"
   ]
  },
  {
   "cell_type": "markdown",
   "metadata": {},
   "source": [
    "<p>Bingo! The <code>WDI_ids</code> DataFrame contains a column named <code>Topic</code>. Moreover, it seems that <em>Environment</em> is listed as a key topic in the column.</p>"
   ]
  },
  {
   "cell_type": "markdown",
   "metadata": {},
   "source": [
    "<h3>Exercise 1:</h3>\n",
    "<p>Extract all the rows that have the topic key <em>Environment</em> in <code>WDI_ids</code>. Add to the resulting DataFrame a new column named <code>Subtopic</code> which contains the corresponding subtopic of the indicator. For example, the subtopic of <code>Environment: Agricultural production</code> is <code>Agricultural production</code>. Which subtopics do you think are of interest to us?</p>\n",
    "<p><strong>Hint:</strong> Remember that you can apply string methods to Series using the <code>str()</code> method of <code>pandas</code>. </p>"
   ]
  },
  {
   "cell_type": "markdown",
   "metadata": {
    "tags": [
     "ans_st"
    ]
   },
   "source": [
    "**Answer.**\n",
    "Interesting subtopics:\n",
    "\n",
    "Freshwater,Transportation,Energy production & use,Emissions,Biodiversity & protected areas,Density & urbanization'"
   ]
  },
  {
   "cell_type": "markdown",
   "metadata": {},
   "source": [
    "-------"
   ]
  },
  {
   "cell_type": "code",
   "execution_count": 4,
   "metadata": {},
   "outputs": [],
   "source": [
    "def subtop(s):\n",
    "    y=s.rfind(\":\")+1\n",
    "    return s[y:]"
   ]
  },
  {
   "cell_type": "code",
   "execution_count": 5,
   "metadata": {},
   "outputs": [
    {
     "data": {
      "text/plain": [
       "array([' Agricultural production', ' Land use',\n",
       "       ' Goods, services & income', ' Capital & financial account',\n",
       "       ' Transfers', ' Balances', ' Reserves & other items',\n",
       "       ' Communications', ' Capital markets',\n",
       "       ' Official development assistance', ' Debt outstanding',\n",
       "       ' Debt ratios & other items', ' Net flows', ' Debt service',\n",
       "       'World Bank, International Debt Statistics.',\n",
       "       ' Energy production & use', ' Emissions',\n",
       "       ' Biodiversity & protected areas', ' Density & urbanization',\n",
       "       ' Transportation'], dtype=object)"
      ]
     },
     "execution_count": 5,
     "metadata": {},
     "output_type": "execute_result"
    }
   ],
   "source": [
    "WDI_ids[\"subtopic\"]=WDI_ids[\"Topic\"].apply(lambda x:subtop(x))\n",
    "WDI_ids.subtopic.unique()[:20]"
   ]
  },
  {
   "cell_type": "markdown",
   "metadata": {},
   "source": [
    "<h3>Exercise 2:</h3>\n",
    "<p>Use the results of Exercise 1 to create a new DataFrame with the history of all emissions indicators for countries and major regions. Call this new DataFrame <code>Emissions_df</code>. How many emissions indicators are in the study?</p>"
   ]
  },
  {
   "cell_type": "markdown",
   "metadata": {
    "tags": [
     "ans_st"
    ]
   },
   "source": [
    "**Answer.**\n",
    "There are 42 indicators"
   ]
  },
  {
   "cell_type": "markdown",
   "metadata": {},
   "source": [
    "-------"
   ]
  },
  {
   "cell_type": "code",
   "execution_count": 6,
   "metadata": {},
   "outputs": [],
   "source": [
    "e=WDI_ids[WDI_ids[\"subtopic\"]==\" Emissions\"]"
   ]
  },
  {
   "cell_type": "code",
   "execution_count": 7,
   "metadata": {},
   "outputs": [],
   "source": [
    "d=e[\"Indicator Name\"]\n",
    "d=list(d)\n"
   ]
  },
  {
   "cell_type": "code",
   "execution_count": 8,
   "metadata": {},
   "outputs": [
    {
     "data": {
      "text/plain": [
       "42"
      ]
     },
     "execution_count": 8,
     "metadata": {},
     "output_type": "execute_result"
    }
   ],
   "source": [
    "len(d)"
   ]
  },
  {
   "cell_type": "code",
   "execution_count": 9,
   "metadata": {},
   "outputs": [
    {
     "data": {
      "text/html": [
       "<div>\n",
       "<style scoped>\n",
       "    .dataframe tbody tr th:only-of-type {\n",
       "        vertical-align: middle;\n",
       "    }\n",
       "\n",
       "    .dataframe tbody tr th {\n",
       "        vertical-align: top;\n",
       "    }\n",
       "\n",
       "    .dataframe thead th {\n",
       "        text-align: right;\n",
       "    }\n",
       "</style>\n",
       "<table border=\"1\" class=\"dataframe\">\n",
       "  <thead>\n",
       "    <tr style=\"text-align: right;\">\n",
       "      <th></th>\n",
       "      <th>Country Name</th>\n",
       "      <th>Country Code</th>\n",
       "      <th>Indicator Name</th>\n",
       "      <th>Indicator Code</th>\n",
       "      <th>1960</th>\n",
       "      <th>1961</th>\n",
       "      <th>1962</th>\n",
       "      <th>1963</th>\n",
       "      <th>1964</th>\n",
       "      <th>1965</th>\n",
       "      <th>...</th>\n",
       "      <th>2011</th>\n",
       "      <th>2012</th>\n",
       "      <th>2013</th>\n",
       "      <th>2014</th>\n",
       "      <th>2015</th>\n",
       "      <th>2016</th>\n",
       "      <th>2017</th>\n",
       "      <th>2018</th>\n",
       "      <th>2019</th>\n",
       "      <th>Unnamed: 64</th>\n",
       "    </tr>\n",
       "  </thead>\n",
       "  <tbody>\n",
       "    <tr>\n",
       "      <th>64</th>\n",
       "      <td>Arab World</td>\n",
       "      <td>ARB</td>\n",
       "      <td>Agricultural methane emissions (% of total)</td>\n",
       "      <td>EN.ATM.METH.AG.ZS</td>\n",
       "      <td>NaN</td>\n",
       "      <td>NaN</td>\n",
       "      <td>NaN</td>\n",
       "      <td>NaN</td>\n",
       "      <td>NaN</td>\n",
       "      <td>NaN</td>\n",
       "      <td>...</td>\n",
       "      <td>NaN</td>\n",
       "      <td>NaN</td>\n",
       "      <td>NaN</td>\n",
       "      <td>NaN</td>\n",
       "      <td>NaN</td>\n",
       "      <td>NaN</td>\n",
       "      <td>NaN</td>\n",
       "      <td>NaN</td>\n",
       "      <td>NaN</td>\n",
       "      <td>NaN</td>\n",
       "    </tr>\n",
       "    <tr>\n",
       "      <th>65</th>\n",
       "      <td>Arab World</td>\n",
       "      <td>ARB</td>\n",
       "      <td>Agricultural methane emissions (thousand metri...</td>\n",
       "      <td>EN.ATM.METH.AG.KT.CE</td>\n",
       "      <td>NaN</td>\n",
       "      <td>NaN</td>\n",
       "      <td>NaN</td>\n",
       "      <td>NaN</td>\n",
       "      <td>NaN</td>\n",
       "      <td>NaN</td>\n",
       "      <td>...</td>\n",
       "      <td>NaN</td>\n",
       "      <td>NaN</td>\n",
       "      <td>NaN</td>\n",
       "      <td>NaN</td>\n",
       "      <td>NaN</td>\n",
       "      <td>NaN</td>\n",
       "      <td>NaN</td>\n",
       "      <td>NaN</td>\n",
       "      <td>NaN</td>\n",
       "      <td>NaN</td>\n",
       "    </tr>\n",
       "    <tr>\n",
       "      <th>66</th>\n",
       "      <td>Arab World</td>\n",
       "      <td>ARB</td>\n",
       "      <td>Agricultural nitrous oxide emissions (% of total)</td>\n",
       "      <td>EN.ATM.NOXE.AG.ZS</td>\n",
       "      <td>NaN</td>\n",
       "      <td>NaN</td>\n",
       "      <td>NaN</td>\n",
       "      <td>NaN</td>\n",
       "      <td>NaN</td>\n",
       "      <td>NaN</td>\n",
       "      <td>...</td>\n",
       "      <td>NaN</td>\n",
       "      <td>NaN</td>\n",
       "      <td>NaN</td>\n",
       "      <td>NaN</td>\n",
       "      <td>NaN</td>\n",
       "      <td>NaN</td>\n",
       "      <td>NaN</td>\n",
       "      <td>NaN</td>\n",
       "      <td>NaN</td>\n",
       "      <td>NaN</td>\n",
       "    </tr>\n",
       "    <tr>\n",
       "      <th>67</th>\n",
       "      <td>Arab World</td>\n",
       "      <td>ARB</td>\n",
       "      <td>Agricultural nitrous oxide emissions (thousand...</td>\n",
       "      <td>EN.ATM.NOXE.AG.KT.CE</td>\n",
       "      <td>NaN</td>\n",
       "      <td>NaN</td>\n",
       "      <td>NaN</td>\n",
       "      <td>NaN</td>\n",
       "      <td>NaN</td>\n",
       "      <td>NaN</td>\n",
       "      <td>...</td>\n",
       "      <td>NaN</td>\n",
       "      <td>NaN</td>\n",
       "      <td>NaN</td>\n",
       "      <td>NaN</td>\n",
       "      <td>NaN</td>\n",
       "      <td>NaN</td>\n",
       "      <td>NaN</td>\n",
       "      <td>NaN</td>\n",
       "      <td>NaN</td>\n",
       "      <td>NaN</td>\n",
       "    </tr>\n",
       "    <tr>\n",
       "      <th>191</th>\n",
       "      <td>Arab World</td>\n",
       "      <td>ARB</td>\n",
       "      <td>CO2 emissions (kg per 2010 US$ of GDP)</td>\n",
       "      <td>EN.ATM.CO2E.KD.GD</td>\n",
       "      <td>NaN</td>\n",
       "      <td>NaN</td>\n",
       "      <td>NaN</td>\n",
       "      <td>NaN</td>\n",
       "      <td>NaN</td>\n",
       "      <td>NaN</td>\n",
       "      <td>...</td>\n",
       "      <td>0.757162</td>\n",
       "      <td>0.770413</td>\n",
       "      <td>0.737665</td>\n",
       "      <td>0.769023</td>\n",
       "      <td>NaN</td>\n",
       "      <td>NaN</td>\n",
       "      <td>NaN</td>\n",
       "      <td>NaN</td>\n",
       "      <td>NaN</td>\n",
       "      <td>NaN</td>\n",
       "    </tr>\n",
       "  </tbody>\n",
       "</table>\n",
       "<p>5 rows × 65 columns</p>\n",
       "</div>"
      ],
      "text/plain": [
       "    Country Name Country Code  \\\n",
       "64    Arab World          ARB   \n",
       "65    Arab World          ARB   \n",
       "66    Arab World          ARB   \n",
       "67    Arab World          ARB   \n",
       "191   Arab World          ARB   \n",
       "\n",
       "                                        Indicator Name        Indicator Code  \\\n",
       "64         Agricultural methane emissions (% of total)     EN.ATM.METH.AG.ZS   \n",
       "65   Agricultural methane emissions (thousand metri...  EN.ATM.METH.AG.KT.CE   \n",
       "66   Agricultural nitrous oxide emissions (% of total)     EN.ATM.NOXE.AG.ZS   \n",
       "67   Agricultural nitrous oxide emissions (thousand...  EN.ATM.NOXE.AG.KT.CE   \n",
       "191             CO2 emissions (kg per 2010 US$ of GDP)     EN.ATM.CO2E.KD.GD   \n",
       "\n",
       "     1960  1961  1962  1963  1964  1965  ...      2011      2012      2013  \\\n",
       "64    NaN   NaN   NaN   NaN   NaN   NaN  ...       NaN       NaN       NaN   \n",
       "65    NaN   NaN   NaN   NaN   NaN   NaN  ...       NaN       NaN       NaN   \n",
       "66    NaN   NaN   NaN   NaN   NaN   NaN  ...       NaN       NaN       NaN   \n",
       "67    NaN   NaN   NaN   NaN   NaN   NaN  ...       NaN       NaN       NaN   \n",
       "191   NaN   NaN   NaN   NaN   NaN   NaN  ...  0.757162  0.770413  0.737665   \n",
       "\n",
       "         2014  2015  2016  2017  2018  2019  Unnamed: 64  \n",
       "64        NaN   NaN   NaN   NaN   NaN   NaN          NaN  \n",
       "65        NaN   NaN   NaN   NaN   NaN   NaN          NaN  \n",
       "66        NaN   NaN   NaN   NaN   NaN   NaN          NaN  \n",
       "67        NaN   NaN   NaN   NaN   NaN   NaN          NaN  \n",
       "191  0.769023   NaN   NaN   NaN   NaN   NaN          NaN  \n",
       "\n",
       "[5 rows x 65 columns]"
      ]
     },
     "execution_count": 9,
     "metadata": {},
     "output_type": "execute_result"
    }
   ],
   "source": [
    "Emissions_df=WDI_data[WDI_data[\"Indicator Name\"].apply(lambda x:x in d)]\n",
    "Emissions_df.head()"
   ]
  },
  {
   "cell_type": "markdown",
   "metadata": {},
   "source": [
    "<h3>Exercise 3:</h3>\n",
    "<p>The DataFrame <code>Emissions_df</code> has one column per year of observation. Data in this form is usually referred to as data in <em>wide format</em>, as the number of columns is high. However, it might be easier to query and filter the data if we had a single column containing the year in which each indicator was calculated. This way, <em>each observation will be represented by a single row</em>. Use the <code>pandas</code> function <a href=\"https://pandas.pydata.org/docs/reference/api/pandas.melt.html\"><code>melt()</code></a> to reshape the <code>Emissions_df</code> data into <em>long format</em>. The resulting DataFrame should contain a pair of new columns named <code>Year</code> and <code>Indicator Value</code>:</p>"
   ]
  },
  {
   "cell_type": "markdown",
   "metadata": {
    "tags": [
     "ans_st"
    ]
   },
   "source": [
    "**Answer.**"
   ]
  },
  {
   "cell_type": "markdown",
   "metadata": {},
   "source": [
    "-------"
   ]
  },
  {
   "cell_type": "code",
   "execution_count": 10,
   "metadata": {},
   "outputs": [],
   "source": [
    "keep=list(Emissions_df.columns)[0:4]\n",
    "co=list(Emissions_df.columns)"
   ]
  },
  {
   "cell_type": "code",
   "execution_count": 11,
   "metadata": {},
   "outputs": [],
   "source": [
    "del co[0:4]"
   ]
  },
  {
   "cell_type": "code",
   "execution_count": 12,
   "metadata": {},
   "outputs": [
    {
     "data": {
      "text/html": [
       "<div>\n",
       "<style scoped>\n",
       "    .dataframe tbody tr th:only-of-type {\n",
       "        vertical-align: middle;\n",
       "    }\n",
       "\n",
       "    .dataframe tbody tr th {\n",
       "        vertical-align: top;\n",
       "    }\n",
       "\n",
       "    .dataframe thead th {\n",
       "        text-align: right;\n",
       "    }\n",
       "</style>\n",
       "<table border=\"1\" class=\"dataframe\">\n",
       "  <thead>\n",
       "    <tr style=\"text-align: right;\">\n",
       "      <th></th>\n",
       "      <th>Country Name</th>\n",
       "      <th>Country Code</th>\n",
       "      <th>Indicator Name</th>\n",
       "      <th>Indicator Code</th>\n",
       "      <th>Year</th>\n",
       "      <th>value</th>\n",
       "    </tr>\n",
       "  </thead>\n",
       "  <tbody>\n",
       "    <tr>\n",
       "      <th>0</th>\n",
       "      <td>Arab World</td>\n",
       "      <td>ARB</td>\n",
       "      <td>Agricultural methane emissions (% of total)</td>\n",
       "      <td>EN.ATM.METH.AG.ZS</td>\n",
       "      <td>1960</td>\n",
       "      <td>NaN</td>\n",
       "    </tr>\n",
       "    <tr>\n",
       "      <th>1</th>\n",
       "      <td>Arab World</td>\n",
       "      <td>ARB</td>\n",
       "      <td>Agricultural methane emissions (thousand metri...</td>\n",
       "      <td>EN.ATM.METH.AG.KT.CE</td>\n",
       "      <td>1960</td>\n",
       "      <td>NaN</td>\n",
       "    </tr>\n",
       "    <tr>\n",
       "      <th>2</th>\n",
       "      <td>Arab World</td>\n",
       "      <td>ARB</td>\n",
       "      <td>Agricultural nitrous oxide emissions (% of total)</td>\n",
       "      <td>EN.ATM.NOXE.AG.ZS</td>\n",
       "      <td>1960</td>\n",
       "      <td>NaN</td>\n",
       "    </tr>\n",
       "    <tr>\n",
       "      <th>3</th>\n",
       "      <td>Arab World</td>\n",
       "      <td>ARB</td>\n",
       "      <td>Agricultural nitrous oxide emissions (thousand...</td>\n",
       "      <td>EN.ATM.NOXE.AG.KT.CE</td>\n",
       "      <td>1960</td>\n",
       "      <td>NaN</td>\n",
       "    </tr>\n",
       "    <tr>\n",
       "      <th>4</th>\n",
       "      <td>Arab World</td>\n",
       "      <td>ARB</td>\n",
       "      <td>CO2 emissions (kg per 2010 US$ of GDP)</td>\n",
       "      <td>EN.ATM.CO2E.KD.GD</td>\n",
       "      <td>1960</td>\n",
       "      <td>NaN</td>\n",
       "    </tr>\n",
       "  </tbody>\n",
       "</table>\n",
       "</div>"
      ],
      "text/plain": [
       "  Country Name Country Code  \\\n",
       "0   Arab World          ARB   \n",
       "1   Arab World          ARB   \n",
       "2   Arab World          ARB   \n",
       "3   Arab World          ARB   \n",
       "4   Arab World          ARB   \n",
       "\n",
       "                                      Indicator Name        Indicator Code  \\\n",
       "0        Agricultural methane emissions (% of total)     EN.ATM.METH.AG.ZS   \n",
       "1  Agricultural methane emissions (thousand metri...  EN.ATM.METH.AG.KT.CE   \n",
       "2  Agricultural nitrous oxide emissions (% of total)     EN.ATM.NOXE.AG.ZS   \n",
       "3  Agricultural nitrous oxide emissions (thousand...  EN.ATM.NOXE.AG.KT.CE   \n",
       "4             CO2 emissions (kg per 2010 US$ of GDP)     EN.ATM.CO2E.KD.GD   \n",
       "\n",
       "   Year  value  \n",
       "0  1960    NaN  \n",
       "1  1960    NaN  \n",
       "2  1960    NaN  \n",
       "3  1960    NaN  \n",
       "4  1960    NaN  "
      ]
     },
     "execution_count": 12,
     "metadata": {},
     "output_type": "execute_result"
    }
   ],
   "source": [
    "tb=Emissions_df.melt(id_vars=keep,value_vars=co,var_name=[\"Year\"])\n",
    "tb.head()"
   ]
  },
  {
   "cell_type": "code",
   "execution_count": 13,
   "metadata": {},
   "outputs": [],
   "source": [
    "Emissions_df=tb.copy()"
   ]
  },
  {
   "cell_type": "markdown",
   "metadata": {},
   "source": [
    "<h3>Exercise 4:</h3>\n",
    "<p>The column <code>Indicator Value</code> of the new <code>Emissions_df</code> contains a bunch of <code>NaN</code> values. Additionally, the <code>Year</code> column contains an <code>Unnamed: 64</code> value. What procedure should we follow to clean these missing values in our DataFrame? Proceed with your suggested cleaning process.</p>"
   ]
  },
  {
   "cell_type": "markdown",
   "metadata": {
    "tags": [
     "ans_st"
    ]
   },
   "source": [
    "**Answer.**\n",
    "\n",
    "Because the columns \"Unnamed: 64\" contains only Nan values, so the column can be deleted.\n",
    "\n",
    "Another NaN years could be removed , because i wont affect on our final result.\n"
   ]
  },
  {
   "cell_type": "code",
   "execution_count": 14,
   "metadata": {},
   "outputs": [],
   "source": [
    "Emissions_df=Emissions_df[Emissions_df[\"Year\"]!=\"Unnamed: 64\"]\n"
   ]
  },
  {
   "cell_type": "markdown",
   "metadata": {},
   "source": [
    "<h3>Exercise 5:</h3>\n",
    "<p>Split the <code>Emissions_df</code> into two DataFrames, one containing only countries and the other containing only regions. Name these <code>Emissions_C_df</code> and <code>Emissions_R_df</code> respectively.</p>\n",
    "<p><strong>Hint:</strong> You may want to inspect the file <code>WDICountry.csv</code> for this task. Region country codes may be found by looking at <code>null</code> values of the <code>Region</code> column in <code>WDICountry</code>.</p>"
   ]
  },
  {
   "cell_type": "markdown",
   "metadata": {
    "tags": [
     "ans_st"
    ]
   },
   "source": [
    "**Answer.**"
   ]
  },
  {
   "cell_type": "markdown",
   "metadata": {},
   "source": []
  },
  {
   "cell_type": "markdown",
   "metadata": {},
   "source": [
    "-------"
   ]
  },
  {
   "cell_type": "code",
   "execution_count": 15,
   "metadata": {},
   "outputs": [],
   "source": [
    "WDI_country = pd.read_csv(\"./files/WDI_csv/WDICountry.csv\")"
   ]
  },
  {
   "cell_type": "markdown",
   "metadata": {},
   "source": [
    "# Generate a dictionary for region from WDI country table"
   ]
  },
  {
   "cell_type": "code",
   "execution_count": 16,
   "metadata": {},
   "outputs": [],
   "source": [
    "cc=WDI_country[\"Country Code\"]\n",
    "rg=WDI_country[\"Region\"]"
   ]
  },
  {
   "cell_type": "code",
   "execution_count": 17,
   "metadata": {},
   "outputs": [],
   "source": [
    "res = dict(zip(cc, rg))"
   ]
  },
  {
   "cell_type": "code",
   "execution_count": 18,
   "metadata": {},
   "outputs": [],
   "source": [
    "tb[\"Region\"]=tb[\"Country Code\"].map(res)\n"
   ]
  },
  {
   "cell_type": "code",
   "execution_count": 19,
   "metadata": {},
   "outputs": [],
   "source": [
    "Emissions_df=tb.copy()"
   ]
  },
  {
   "cell_type": "markdown",
   "metadata": {},
   "source": [
    "# Region was created"
   ]
  },
  {
   "cell_type": "code",
   "execution_count": 20,
   "metadata": {},
   "outputs": [],
   "source": [
    "Emissions_df=Emissions_df[Emissions_df['Region'].notna()]"
   ]
  },
  {
   "cell_type": "code",
   "execution_count": 21,
   "metadata": {},
   "outputs": [],
   "source": [
    "Emissions_C_df=Emissions_df.drop(\"Region\",axis=1)"
   ]
  },
  {
   "cell_type": "code",
   "execution_count": 22,
   "metadata": {},
   "outputs": [],
   "source": [
    "Emissions_C_df=Emissions_C_df[Emissions_C_df[\"Year\"]!=\"Unnamed: 64\"]"
   ]
  },
  {
   "cell_type": "markdown",
   "metadata": {},
   "source": [
    "# sum up all same indicator of countries's value in same region"
   ]
  },
  {
   "cell_type": "code",
   "execution_count": 23,
   "metadata": {},
   "outputs": [],
   "source": [
    "Emissions_df=Emissions_df[Emissions_df[\"Year\"]!=\"Unnamed: 64\"]"
   ]
  },
  {
   "cell_type": "code",
   "execution_count": 24,
   "metadata": {},
   "outputs": [],
   "source": [
    "Emissions_R_df=Emissions_df.copy()"
   ]
  },
  {
   "cell_type": "code",
   "execution_count": 25,
   "metadata": {},
   "outputs": [
    {
     "data": {
      "text/html": [
       "<div>\n",
       "<style scoped>\n",
       "    .dataframe tbody tr th:only-of-type {\n",
       "        vertical-align: middle;\n",
       "    }\n",
       "\n",
       "    .dataframe tbody tr th {\n",
       "        vertical-align: top;\n",
       "    }\n",
       "\n",
       "    .dataframe thead th {\n",
       "        text-align: right;\n",
       "    }\n",
       "</style>\n",
       "<table border=\"1\" class=\"dataframe\">\n",
       "  <thead>\n",
       "    <tr style=\"text-align: right;\">\n",
       "      <th></th>\n",
       "      <th>Region</th>\n",
       "      <th>Indicator Name</th>\n",
       "      <th>Year</th>\n",
       "      <th>value</th>\n",
       "    </tr>\n",
       "  </thead>\n",
       "  <tbody>\n",
       "    <tr>\n",
       "      <th>0</th>\n",
       "      <td>East Asia &amp; Pacific</td>\n",
       "      <td>Agricultural methane emissions (% of total)</td>\n",
       "      <td>1960</td>\n",
       "      <td>0.0</td>\n",
       "    </tr>\n",
       "    <tr>\n",
       "      <th>1</th>\n",
       "      <td>East Asia &amp; Pacific</td>\n",
       "      <td>Agricultural methane emissions (% of total)</td>\n",
       "      <td>1961</td>\n",
       "      <td>0.0</td>\n",
       "    </tr>\n",
       "    <tr>\n",
       "      <th>2</th>\n",
       "      <td>East Asia &amp; Pacific</td>\n",
       "      <td>Agricultural methane emissions (% of total)</td>\n",
       "      <td>1962</td>\n",
       "      <td>0.0</td>\n",
       "    </tr>\n",
       "    <tr>\n",
       "      <th>3</th>\n",
       "      <td>East Asia &amp; Pacific</td>\n",
       "      <td>Agricultural methane emissions (% of total)</td>\n",
       "      <td>1963</td>\n",
       "      <td>0.0</td>\n",
       "    </tr>\n",
       "    <tr>\n",
       "      <th>4</th>\n",
       "      <td>East Asia &amp; Pacific</td>\n",
       "      <td>Agricultural methane emissions (% of total)</td>\n",
       "      <td>1964</td>\n",
       "      <td>0.0</td>\n",
       "    </tr>\n",
       "    <tr>\n",
       "      <th>...</th>\n",
       "      <td>...</td>\n",
       "      <td>...</td>\n",
       "      <td>...</td>\n",
       "      <td>...</td>\n",
       "    </tr>\n",
       "    <tr>\n",
       "      <th>17635</th>\n",
       "      <td>Sub-Saharan Africa</td>\n",
       "      <td>Total greenhouse gas emissions (kt of CO2 equi...</td>\n",
       "      <td>2015</td>\n",
       "      <td>0.0</td>\n",
       "    </tr>\n",
       "    <tr>\n",
       "      <th>17636</th>\n",
       "      <td>Sub-Saharan Africa</td>\n",
       "      <td>Total greenhouse gas emissions (kt of CO2 equi...</td>\n",
       "      <td>2016</td>\n",
       "      <td>0.0</td>\n",
       "    </tr>\n",
       "    <tr>\n",
       "      <th>17637</th>\n",
       "      <td>Sub-Saharan Africa</td>\n",
       "      <td>Total greenhouse gas emissions (kt of CO2 equi...</td>\n",
       "      <td>2017</td>\n",
       "      <td>0.0</td>\n",
       "    </tr>\n",
       "    <tr>\n",
       "      <th>17638</th>\n",
       "      <td>Sub-Saharan Africa</td>\n",
       "      <td>Total greenhouse gas emissions (kt of CO2 equi...</td>\n",
       "      <td>2018</td>\n",
       "      <td>0.0</td>\n",
       "    </tr>\n",
       "    <tr>\n",
       "      <th>17639</th>\n",
       "      <td>Sub-Saharan Africa</td>\n",
       "      <td>Total greenhouse gas emissions (kt of CO2 equi...</td>\n",
       "      <td>2019</td>\n",
       "      <td>0.0</td>\n",
       "    </tr>\n",
       "  </tbody>\n",
       "</table>\n",
       "<p>17640 rows × 4 columns</p>\n",
       "</div>"
      ],
      "text/plain": [
       "                    Region                                     Indicator Name  \\\n",
       "0      East Asia & Pacific        Agricultural methane emissions (% of total)   \n",
       "1      East Asia & Pacific        Agricultural methane emissions (% of total)   \n",
       "2      East Asia & Pacific        Agricultural methane emissions (% of total)   \n",
       "3      East Asia & Pacific        Agricultural methane emissions (% of total)   \n",
       "4      East Asia & Pacific        Agricultural methane emissions (% of total)   \n",
       "...                    ...                                                ...   \n",
       "17635   Sub-Saharan Africa  Total greenhouse gas emissions (kt of CO2 equi...   \n",
       "17636   Sub-Saharan Africa  Total greenhouse gas emissions (kt of CO2 equi...   \n",
       "17637   Sub-Saharan Africa  Total greenhouse gas emissions (kt of CO2 equi...   \n",
       "17638   Sub-Saharan Africa  Total greenhouse gas emissions (kt of CO2 equi...   \n",
       "17639   Sub-Saharan Africa  Total greenhouse gas emissions (kt of CO2 equi...   \n",
       "\n",
       "       Year  value  \n",
       "0      1960    0.0  \n",
       "1      1961    0.0  \n",
       "2      1962    0.0  \n",
       "3      1963    0.0  \n",
       "4      1964    0.0  \n",
       "...     ...    ...  \n",
       "17635  2015    0.0  \n",
       "17636  2016    0.0  \n",
       "17637  2017    0.0  \n",
       "17638  2018    0.0  \n",
       "17639  2019    0.0  \n",
       "\n",
       "[17640 rows x 4 columns]"
      ]
     },
     "execution_count": 25,
     "metadata": {},
     "output_type": "execute_result"
    }
   ],
   "source": [
    "aa=Emissions_R_df.groupby([\"Region\",\"Indicator Name\",\"Year\"])[\"value\"].sum().reset_index()\n",
    "\n",
    "aa"
   ]
  },
  {
   "cell_type": "code",
   "execution_count": 26,
   "metadata": {},
   "outputs": [],
   "source": [
    "Emissions_R_df=aa"
   ]
  },
  {
   "cell_type": "code",
   "execution_count": 27,
   "metadata": {},
   "outputs": [],
   "source": [
    "# Emissions_R_df=Emissions_df.drop([\"Country Code\",\"Country Name\"],axis=1)"
   ]
  },
  {
   "cell_type": "markdown",
   "metadata": {},
   "source": [
    "## final Emission_R_df"
   ]
  },
  {
   "cell_type": "code",
   "execution_count": 28,
   "metadata": {},
   "outputs": [
    {
     "data": {
      "text/html": [
       "<div>\n",
       "<style scoped>\n",
       "    .dataframe tbody tr th:only-of-type {\n",
       "        vertical-align: middle;\n",
       "    }\n",
       "\n",
       "    .dataframe tbody tr th {\n",
       "        vertical-align: top;\n",
       "    }\n",
       "\n",
       "    .dataframe thead th {\n",
       "        text-align: right;\n",
       "    }\n",
       "</style>\n",
       "<table border=\"1\" class=\"dataframe\">\n",
       "  <thead>\n",
       "    <tr style=\"text-align: right;\">\n",
       "      <th></th>\n",
       "      <th>Region</th>\n",
       "      <th>Indicator Name</th>\n",
       "      <th>Year</th>\n",
       "      <th>value</th>\n",
       "    </tr>\n",
       "  </thead>\n",
       "  <tbody>\n",
       "    <tr>\n",
       "      <th>0</th>\n",
       "      <td>East Asia &amp; Pacific</td>\n",
       "      <td>Agricultural methane emissions (% of total)</td>\n",
       "      <td>1960</td>\n",
       "      <td>0.0</td>\n",
       "    </tr>\n",
       "    <tr>\n",
       "      <th>1</th>\n",
       "      <td>East Asia &amp; Pacific</td>\n",
       "      <td>Agricultural methane emissions (% of total)</td>\n",
       "      <td>1961</td>\n",
       "      <td>0.0</td>\n",
       "    </tr>\n",
       "    <tr>\n",
       "      <th>2</th>\n",
       "      <td>East Asia &amp; Pacific</td>\n",
       "      <td>Agricultural methane emissions (% of total)</td>\n",
       "      <td>1962</td>\n",
       "      <td>0.0</td>\n",
       "    </tr>\n",
       "    <tr>\n",
       "      <th>3</th>\n",
       "      <td>East Asia &amp; Pacific</td>\n",
       "      <td>Agricultural methane emissions (% of total)</td>\n",
       "      <td>1963</td>\n",
       "      <td>0.0</td>\n",
       "    </tr>\n",
       "    <tr>\n",
       "      <th>4</th>\n",
       "      <td>East Asia &amp; Pacific</td>\n",
       "      <td>Agricultural methane emissions (% of total)</td>\n",
       "      <td>1964</td>\n",
       "      <td>0.0</td>\n",
       "    </tr>\n",
       "  </tbody>\n",
       "</table>\n",
       "</div>"
      ],
      "text/plain": [
       "                Region                               Indicator Name  Year  \\\n",
       "0  East Asia & Pacific  Agricultural methane emissions (% of total)  1960   \n",
       "1  East Asia & Pacific  Agricultural methane emissions (% of total)  1961   \n",
       "2  East Asia & Pacific  Agricultural methane emissions (% of total)  1962   \n",
       "3  East Asia & Pacific  Agricultural methane emissions (% of total)  1963   \n",
       "4  East Asia & Pacific  Agricultural methane emissions (% of total)  1964   \n",
       "\n",
       "   value  \n",
       "0    0.0  \n",
       "1    0.0  \n",
       "2    0.0  \n",
       "3    0.0  \n",
       "4    0.0  "
      ]
     },
     "execution_count": 28,
     "metadata": {},
     "output_type": "execute_result"
    }
   ],
   "source": [
    "Emissions_R_df.head()"
   ]
  },
  {
   "cell_type": "markdown",
   "metadata": {},
   "source": [
    "<h2>Finalizing the cleaning for our study</h2>\n",
    "<p>Our data has improved a lot by now. However, since the number of indicators is still quite large, let us focus our study on the following indicators for now:</p>\n",
    "<ul>\n",
    "<li>\n",
    "<p><strong>Total greenhouse gas emissions (kt of CO2 equivalent), EN.ATM.GHGT.KT.CE</strong>: The total of greenhouse emissions includes CO2, Methane, Nitrous oxide, among other pollutant gases. Measured in kilotons.</p>\n",
    "</li>\n",
    "<li>\n",
    "<p><strong>CO2 emissions (kt), EN.ATM.CO2E.KT</strong>: Carbon dioxide emissions are those stemming from the burning of fossil fuels and the manufacture of cement. They include carbon dioxide produced during consumption of solid, liquid, and gas fuels and gas flaring.  </p>\n",
    "</li>\n",
    "<li>\n",
    "<p><strong>Methane emissions (kt of CO2 equivalent), EN.ATM.METH.KT.CE</strong>: Methane emissions are those stemming from human activities such as agriculture and from industrial methane production.</p>\n",
    "</li>\n",
    "<li>\n",
    "<p><strong>Nitrous oxide emissions (kt of CO2 equivalent), EN.ATM.NOXE.KT.CE</strong>: Nitrous oxide emissions are emissions from agricultural biomass burning, industrial activities, and livestock management.</p>\n",
    "</li>\n",
    "<li>\n",
    "<p><strong>Other greenhouse gas emissions, HFC, PFC and SF6 (kt of CO2 equivalent), EN.ATM.GHGO.KT.CE</strong>: Other pollutant gases.</p>\n",
    "</li>\n",
    "<li>\n",
    "<p><strong>PM2.5 air pollution, mean annual exposure (micrograms per cubic meter), EN.ATM.PM25.MC.M3</strong>: Population-weighted exposure to ambient PM2.5 pollution is defined as the average level of exposure of a nation's population to concentrations of suspended particles measuring less than 2.5 microns in aerodynamic diameter, which are capable of penetrating deep into the respiratory tract and causing severe health damage. Exposure is calculated by weighting mean annual concentrations of PM2.5 by population in both urban and rural areas.</p>\n",
    "</li>\n",
    "<li>\n",
    "<p><strong>PM2.5 air pollution, population exposed to levels exceeding WHO guideline value (% of total), EN.ATM.PM25.MC.ZS</strong>: Percent of population exposed to ambient concentrations of PM2.5 that exceed the World Health Organization (WHO) guideline value.</p>\n",
    "</li>\n",
    "</ul>"
   ]
  },
  {
   "cell_type": "markdown",
   "metadata": {},
   "source": [
    "<h3>Exercise 6:</h3>\n",
    "<p>For each of the emissions DataFrames, extract the rows corresponding to the above indicators of interest. Replace the long names of the indicators by the short names <code>Total</code>, <code>CO2</code>, <code>CH4</code>, <code>N2O</code>, <code>Other</code>, <code>PM2.5</code>, and <code>PM2.5_WHO</code>. (This will be helpful later when we need to label plots of our data.) </p>"
   ]
  },
  {
   "cell_type": "markdown",
   "metadata": {
    "tags": [
     "ans_st"
    ]
   },
   "source": [
    "**Answer.**"
   ]
  },
  {
   "cell_type": "markdown",
   "metadata": {},
   "source": [
    "-------"
   ]
  },
  {
   "cell_type": "code",
   "execution_count": 29,
   "metadata": {},
   "outputs": [],
   "source": [
    "indicatorlist=['Total greenhouse gas emissions (kt of CO2 equivalent)',\n",
    "'CO2 emissions (kt)',\n",
    "'Methane emissions (kt of CO2 equivalent)',\n",
    "'Nitrous oxide emissions (kt of CO2 equivalent)',\n",
    "'Other greenhouse gas emissions',\n",
    "'PM2.5 air pollution, mean annual exposure (micrograms per cubic meter)',\n",
    "'PM2.5 air pollution, population exposed to levels exceeding WHO guideline value (% of total)']"
   ]
  },
  {
   "cell_type": "code",
   "execution_count": 30,
   "metadata": {},
   "outputs": [],
   "source": [
    "tranin=['Total','CO2','CH4','N2O','Other','PM2.5','PM2.5_WHO']\n",
    "\n"
   ]
  },
  {
   "cell_type": "code",
   "execution_count": 31,
   "metadata": {},
   "outputs": [],
   "source": [
    "res1 = dict(zip(indicatorlist,tranin))\n",
    "\n"
   ]
  },
  {
   "cell_type": "code",
   "execution_count": 32,
   "metadata": {},
   "outputs": [],
   "source": [
    "def converti(da):\n",
    "    q=[]\n",
    "    for w in da[\"Indicator Name\"]:\n",
    "        if w in res1:\n",
    "            q.append(res1[w])\n",
    "        else:\n",
    "            q.append(w)\n",
    "    return q"
   ]
  },
  {
   "cell_type": "markdown",
   "metadata": {},
   "source": [
    "## Shorten indicator name"
   ]
  },
  {
   "cell_type": "code",
   "execution_count": 33,
   "metadata": {},
   "outputs": [],
   "source": [
    "Emissions_C_df[\"Indicator Name\"]=converti(Emissions_C_df)\n",
    "Emissions_R_df[\"Indicator Name\"]=converti(Emissions_R_df)"
   ]
  },
  {
   "cell_type": "markdown",
   "metadata": {},
   "source": [
    "<h2>Where shall the client start environmental campaigns?</h2>\n",
    "<p>Now the DataFrames <code>Emissions_C_df</code> and <code>Emissions_R_df</code> seem to be in a good shape. Let's proceed to conduct some exploratory data analysis so that we can make recommendations to our client.</p>"
   ]
  },
  {
   "cell_type": "markdown",
   "metadata": {},
   "source": [
    "<h3>Exercise 7:</h3>\n",
    "<p>Let's first calculate some basic information about the main indicators across the globe.</p>\n",
    "<h4>7.1</h4>\n",
    "<p>Compute some basic statistics of the amount of kt of emissions for each of the four main pollutants (<code>CO2, CH4, N2O, Others</code>) over the years. Use the <code>Emissions_C_df</code> data frame. What trends do you see? </p>"
   ]
  },
  {
   "cell_type": "markdown",
   "metadata": {
    "tags": [
     "ans_st"
    ]
   },
   "source": [
    "**Answer.**"
   ]
  },
  {
   "cell_type": "markdown",
   "metadata": {},
   "source": [
    "-------\n",
    "# CO2 trend is increasing from 1960 to 2010\n",
    "# CH4 trend is increasing from 1970 to 2010"
   ]
  },
  {
   "cell_type": "code",
   "execution_count": 34,
   "metadata": {},
   "outputs": [
    {
     "name": "stdout",
     "output_type": "stream",
     "text": [
      "Basic statistics of : Total\n",
      "              value\n",
      "count  8.061000e+03\n",
      "mean   1.981796e+05\n",
      "std    6.933496e+05\n",
      "min    1.390210e+00\n",
      "25%    6.392453e+03\n",
      "50%    3.123402e+04\n",
      "75%    1.108790e+05\n",
      "max    1.245471e+07\n",
      "Basic statistics of : CO2\n",
      "              value\n",
      "count  9.856000e+03\n",
      "mean   1.004811e+05\n",
      "std    4.950942e+05\n",
      "min   -8.067400e+01\n",
      "25%    5.573840e+02\n",
      "50%    4.275722e+03\n",
      "75%    4.008581e+04\n",
      "max    1.029193e+07\n",
      "Basic statistics of : CH4\n",
      "              value\n",
      "count  8.736000e+03\n",
      "mean   3.190019e+04\n",
      "std    1.049856e+05\n",
      "min    0.000000e+00\n",
      "25%    8.806212e+02\n",
      "50%    5.457505e+03\n",
      "75%    1.932534e+04\n",
      "max    1.752290e+06\n",
      "Basic statistics of : N2O\n",
      "       value\n",
      "count    0.0\n",
      "mean     NaN\n",
      "std      NaN\n",
      "min      NaN\n",
      "25%      NaN\n",
      "50%      NaN\n",
      "75%      NaN\n",
      "max      NaN\n",
      "Basic statistics of : Other\n",
      "       value\n",
      "count    0.0\n",
      "mean     NaN\n",
      "std      NaN\n",
      "min      NaN\n",
      "25%      NaN\n",
      "50%      NaN\n",
      "75%      NaN\n",
      "max      NaN\n",
      "Basic statistics of : PM2.5\n",
      "             value\n",
      "count  2328.000000\n",
      "mean     28.133282\n",
      "std      17.324421\n",
      "min       5.861331\n",
      "25%      15.397819\n",
      "50%      23.870969\n",
      "75%      35.548480\n",
      "max     100.784428\n",
      "Basic statistics of : PM2.5_WHO\n",
      "             value\n",
      "count  2328.000000\n",
      "mean     92.609616\n",
      "std      22.671226\n",
      "min       0.000000\n",
      "25%      99.981571\n",
      "50%     100.000000\n",
      "75%     100.000000\n",
      "max     100.000000\n"
     ]
    }
   ],
   "source": [
    "for i in tranin:\n",
    "    a=Emissions_C_df[Emissions_C_df[\"Indicator Name\"]==i].describe()\n",
    "    print(\"Basic statistics of :\",i)\n",
    "    print(a)"
   ]
  },
  {
   "cell_type": "code",
   "execution_count": 210,
   "metadata": {},
   "outputs": [
    {
     "data": {
      "image/png": "[encoded data removed]",
      "text/plain": [
       "<Figure size 432x288 with 1 Axes>"
      ]
     },
     "metadata": {
      "needs_background": "light"
     },
     "output_type": "display_data"
    },
    {
     "data": {
      "image/png": "[encoded data removed]",
      "text/plain": [
       "<Figure size 432x288 with 1 Axes>"
      ]
     },
     "metadata": {
      "needs_background": "light"
     },
     "output_type": "display_data"
    },
    {
     "data": {
      "image/png": "[encoded data removed]",
      "text/plain": [
       "<Figure size 432x288 with 1 Axes>"
      ]
     },
     "metadata": {
      "needs_background": "light"
     },
     "output_type": "display_data"
    },
    {
     "data": {
      "image/png": "[encoded data removed]",
      "text/plain": [
       "<Figure size 432x288 with 1 Axes>"
      ]
     },
     "metadata": {
      "needs_background": "light"
     },
     "output_type": "display_data"
    }
   ],
   "source": [
    "listin=[\"CO2\",\"CH4\",\"N2O\",\"Others\"]\n",
    "Emissions_C_df[\"Year\"]=Emissions_C_df[\"Year\"].astype(int)\n",
    "for t in listin:\n",
    "    Emissions_C_df[Emissions_C_df[\"Indicator Name\"]==t].groupby(\"Year\").sum().plot(title=\"indicator chart of \"+t)"
   ]
  },
  {
   "cell_type": "code",
   "execution_count": 36,
   "metadata": {},
   "outputs": [],
   "source": [
    "# Emissions_C_df[Emissions_C_df[\"Indicator Name\"]==\"CH4\"].groupby(\"Year\").sum().plot()"
   ]
  },
  {
   "cell_type": "markdown",
   "metadata": {},
   "source": [
    "<h4>7.2</h4>\n",
    "<p>What can you say about the <em>distribution</em> of emissions around the globe over the years? What information can you extract from the <em>tails</em> of these distributions over the years?</p>"
   ]
  },
  {
   "cell_type": "markdown",
   "metadata": {
    "tags": [
     "ans_st"
    ]
   },
   "source": [
    "**Answer.**\n",
    "# The tail distribution was deleted, or sensored"
   ]
  },
  {
   "cell_type": "markdown",
   "metadata": {},
   "source": [
    "-------"
   ]
  },
  {
   "cell_type": "markdown",
   "metadata": {},
   "source": [
    "<h4>7.3</h4>\n",
    "<p>Compute a plot showing the behavior of each of the four main air pollutants for each of the main global regions in the <code>Emissions_R_df</code> data frame. The main regions are <code>'Latin America &amp; Caribbean', 'South Asia', 'Sub-Saharan Africa', 'Europe &amp; Central Asia', 'Middle East &amp; North Africa', 'East Asia &amp; Pacific'</code> and <code>'North America'</code>. What conclusions can you make?</p>"
   ]
  },
  {
   "cell_type": "markdown",
   "metadata": {
    "tags": [
     "ans_st"
    ]
   },
   "source": [
    "**Answer.**"
   ]
  },
  {
   "cell_type": "markdown",
   "metadata": {},
   "source": [
    "# from 2000 to 2018 , East Asia and Pacific regions increased rapidly in the emission of CO2 ,and CH4. "
   ]
  },
  {
   "cell_type": "code",
   "execution_count": 37,
   "metadata": {},
   "outputs": [],
   "source": [
    "regionlist=Emissions_R_df[\"Region\"].unique()"
   ]
  },
  {
   "cell_type": "code",
   "execution_count": 38,
   "metadata": {},
   "outputs": [],
   "source": [
    "Emissions_R_df[\"Year\"]=Emissions_R_df[\"Year\"].astype(int)"
   ]
  },
  {
   "cell_type": "code",
   "execution_count": 39,
   "metadata": {},
   "outputs": [
    {
     "data": {
      "text/plain": [
       "['CO2', 'CH4', 'N2O', 'Others']"
      ]
     },
     "execution_count": 39,
     "metadata": {},
     "output_type": "execute_result"
    }
   ],
   "source": [
    "listin"
   ]
  },
  {
   "cell_type": "code",
   "execution_count": 40,
   "metadata": {},
   "outputs": [
    {
     "data": {
      "image/png": "[encoded data removed]",
      "text/plain": [
       "<Figure size 432x288 with 1 Axes>"
      ]
     },
     "metadata": {
      "needs_background": "light"
     },
     "output_type": "display_data"
    },
    {
     "data": {
      "image/png": "[encoded data removed]",
      "text/plain": [
       "<Figure size 432x288 with 1 Axes>"
      ]
     },
     "metadata": {
      "needs_background": "light"
     },
     "output_type": "display_data"
    },
    {
     "data": {
      "image/png": "[encoded data removed]",
      "text/plain": [
       "<Figure size 432x288 with 1 Axes>"
      ]
     },
     "metadata": {
      "needs_background": "light"
     },
     "output_type": "display_data"
    },
    {
     "data": {
      "image/png": "[encoded data removed]",
      "text/plain": [
       "<Figure size 432x288 with 1 Axes>"
      ]
     },
     "metadata": {
      "needs_background": "light"
     },
     "output_type": "display_data"
    }
   ],
   "source": [
    "\n",
    "for t in listin:\n",
    "    for i in regionlist:\n",
    "        tit=\"indicator\"+t+\"in region of \"+ i\n",
    "        if len(Emissions_R_df[(Emissions_R_df[\"Indicator Name\"]==t)&(Emissions_R_df[\"Region\"]==i)])>0:\n",
    "            ab=Emissions_R_df[(Emissions_R_df[\"Indicator Name\"]==t)&(Emissions_R_df[\"Region\"]==i)]\n",
    "            plt.plot(ab[\"Year\"].astype(int),ab['value'],label=i)\n",
    "            plt.legend(loc=\"upper left\")\n",
    "    plt.title(\"Chart of indicator:\"+t)\n",
    "    plt.show()\n",
    "            "
   ]
  },
  {
   "cell_type": "markdown",
   "metadata": {},
   "source": [
    "-------"
   ]
  },
  {
   "cell_type": "code",
   "execution_count": null,
   "metadata": {},
   "outputs": [],
   "source": []
  },
  {
   "cell_type": "markdown",
   "metadata": {},
   "source": [
    "<p>It seems that countries in East Asia and the Pacific are the worst dealing with pollutant emissions. We also see that Europe and Central Asia have been making some efforts to reduce their emissions. Surprisingly this is not the case with North America and Sub-Saharan Africa, which levels have been increasing over the years as well. </p>"
   ]
  },
  {
   "cell_type": "markdown",
   "metadata": {},
   "source": [
    "<h3>Exercise 8:</h3>\n",
    "<p>In Exercise 7 we discovered some interesting features of the distribution of the emissions over the years. Let us explore these features in more detail. </p>"
   ]
  },
  {
   "cell_type": "markdown",
   "metadata": {},
   "source": [
    "<h4>8.1</h4>\n",
    "<p>Which are the top five countries that have been in the top 10 of <code>CO2</code> emitters over the years? Have any of these countries made efforts to reduce the amount of CO2 emissions over the last 10 years?</p>"
   ]
  },
  {
   "cell_type": "markdown",
   "metadata": {
    "tags": [
     "ans_st"
    ]
   },
   "source": [
    "**Answer.**\n",
    "## That is China,US, Russia, Japan,France,India\n",
    "\n",
    "## Yes, There are. From 2004, US began reduce its CO2 emissions.\n",
    "\n",
    "## Scince 2007, Russian started reducing CO2 emissions.Japans as well"
   ]
  },
  {
   "cell_type": "markdown",
   "metadata": {},
   "source": [
    "-------"
   ]
  },
  {
   "cell_type": "code",
   "execution_count": 41,
   "metadata": {},
   "outputs": [],
   "source": [
    "yl=Emissions_C_df[\"Year\"].unique()\n",
    "table=pd.DataFrame()"
   ]
  },
  {
   "cell_type": "code",
   "execution_count": 42,
   "metadata": {},
   "outputs": [],
   "source": [
    "countrylist=Emissions_C_df[\"Country Name\"].unique()"
   ]
  },
  {
   "cell_type": "code",
   "execution_count": 43,
   "metadata": {},
   "outputs": [],
   "source": [
    "dd=Emissions_C_df[Emissions_C_df[\"Indicator Name\"]==\"CO2\"].groupby(\"Year\")\n",
    "for i in yl:\n",
    "    a=dd.get_group(i).sort_values(by=\"value\",ascending=False).head(10)\n",
    "    table[i]=a[\"Country Code\"].to_list()\n",
    "\n"
   ]
  },
  {
   "cell_type": "code",
   "execution_count": 44,
   "metadata": {},
   "outputs": [
    {
     "data": {
      "text/html": [
       "<div>\n",
       "<style scoped>\n",
       "    .dataframe tbody tr th:only-of-type {\n",
       "        vertical-align: middle;\n",
       "    }\n",
       "\n",
       "    .dataframe tbody tr th {\n",
       "        vertical-align: top;\n",
       "    }\n",
       "\n",
       "    .dataframe thead th {\n",
       "        text-align: right;\n",
       "    }\n",
       "</style>\n",
       "<table border=\"1\" class=\"dataframe\">\n",
       "  <thead>\n",
       "    <tr style=\"text-align: right;\">\n",
       "      <th></th>\n",
       "      <th>1980</th>\n",
       "      <th>1981</th>\n",
       "      <th>1982</th>\n",
       "      <th>1983</th>\n",
       "      <th>1984</th>\n",
       "      <th>1985</th>\n",
       "      <th>1986</th>\n",
       "      <th>1987</th>\n",
       "      <th>1988</th>\n",
       "      <th>1989</th>\n",
       "      <th>...</th>\n",
       "      <th>2010</th>\n",
       "      <th>2011</th>\n",
       "      <th>2012</th>\n",
       "      <th>2013</th>\n",
       "      <th>2014</th>\n",
       "      <th>2015</th>\n",
       "      <th>2016</th>\n",
       "      <th>2017</th>\n",
       "      <th>2018</th>\n",
       "      <th>2019</th>\n",
       "    </tr>\n",
       "  </thead>\n",
       "  <tbody>\n",
       "    <tr>\n",
       "      <th>0</th>\n",
       "      <td>USA</td>\n",
       "      <td>USA</td>\n",
       "      <td>USA</td>\n",
       "      <td>USA</td>\n",
       "      <td>USA</td>\n",
       "      <td>USA</td>\n",
       "      <td>USA</td>\n",
       "      <td>USA</td>\n",
       "      <td>USA</td>\n",
       "      <td>USA</td>\n",
       "      <td>...</td>\n",
       "      <td>CHN</td>\n",
       "      <td>CHN</td>\n",
       "      <td>CHN</td>\n",
       "      <td>CHN</td>\n",
       "      <td>CHN</td>\n",
       "      <td>AFG</td>\n",
       "      <td>AFG</td>\n",
       "      <td>AFG</td>\n",
       "      <td>AFG</td>\n",
       "      <td>AFG</td>\n",
       "    </tr>\n",
       "    <tr>\n",
       "      <th>1</th>\n",
       "      <td>CHN</td>\n",
       "      <td>CHN</td>\n",
       "      <td>CHN</td>\n",
       "      <td>CHN</td>\n",
       "      <td>CHN</td>\n",
       "      <td>CHN</td>\n",
       "      <td>CHN</td>\n",
       "      <td>CHN</td>\n",
       "      <td>CHN</td>\n",
       "      <td>CHN</td>\n",
       "      <td>...</td>\n",
       "      <td>USA</td>\n",
       "      <td>USA</td>\n",
       "      <td>USA</td>\n",
       "      <td>USA</td>\n",
       "      <td>USA</td>\n",
       "      <td>ALB</td>\n",
       "      <td>ALB</td>\n",
       "      <td>ALB</td>\n",
       "      <td>ALB</td>\n",
       "      <td>ALB</td>\n",
       "    </tr>\n",
       "    <tr>\n",
       "      <th>2</th>\n",
       "      <td>JPN</td>\n",
       "      <td>JPN</td>\n",
       "      <td>JPN</td>\n",
       "      <td>JPN</td>\n",
       "      <td>JPN</td>\n",
       "      <td>JPN</td>\n",
       "      <td>JPN</td>\n",
       "      <td>JPN</td>\n",
       "      <td>JPN</td>\n",
       "      <td>JPN</td>\n",
       "      <td>...</td>\n",
       "      <td>IND</td>\n",
       "      <td>IND</td>\n",
       "      <td>IND</td>\n",
       "      <td>IND</td>\n",
       "      <td>IND</td>\n",
       "      <td>DZA</td>\n",
       "      <td>DZA</td>\n",
       "      <td>DZA</td>\n",
       "      <td>DZA</td>\n",
       "      <td>DZA</td>\n",
       "    </tr>\n",
       "    <tr>\n",
       "      <th>3</th>\n",
       "      <td>GBR</td>\n",
       "      <td>GBR</td>\n",
       "      <td>GBR</td>\n",
       "      <td>GBR</td>\n",
       "      <td>GBR</td>\n",
       "      <td>GBR</td>\n",
       "      <td>GBR</td>\n",
       "      <td>GBR</td>\n",
       "      <td>GBR</td>\n",
       "      <td>GBR</td>\n",
       "      <td>...</td>\n",
       "      <td>RUS</td>\n",
       "      <td>RUS</td>\n",
       "      <td>RUS</td>\n",
       "      <td>RUS</td>\n",
       "      <td>RUS</td>\n",
       "      <td>ASM</td>\n",
       "      <td>ASM</td>\n",
       "      <td>ASM</td>\n",
       "      <td>ASM</td>\n",
       "      <td>ASM</td>\n",
       "    </tr>\n",
       "    <tr>\n",
       "      <th>4</th>\n",
       "      <td>FRA</td>\n",
       "      <td>FRA</td>\n",
       "      <td>FRA</td>\n",
       "      <td>FRA</td>\n",
       "      <td>POL</td>\n",
       "      <td>POL</td>\n",
       "      <td>IND</td>\n",
       "      <td>IND</td>\n",
       "      <td>IND</td>\n",
       "      <td>IND</td>\n",
       "      <td>...</td>\n",
       "      <td>JPN</td>\n",
       "      <td>JPN</td>\n",
       "      <td>JPN</td>\n",
       "      <td>JPN</td>\n",
       "      <td>JPN</td>\n",
       "      <td>AND</td>\n",
       "      <td>AND</td>\n",
       "      <td>AND</td>\n",
       "      <td>AND</td>\n",
       "      <td>AND</td>\n",
       "    </tr>\n",
       "  </tbody>\n",
       "</table>\n",
       "<p>5 rows × 40 columns</p>\n",
       "</div>"
      ],
      "text/plain": [
       "  1980 1981 1982 1983 1984 1985 1986 1987 1988 1989  ... 2010 2011 2012 2013  \\\n",
       "0  USA  USA  USA  USA  USA  USA  USA  USA  USA  USA  ...  CHN  CHN  CHN  CHN   \n",
       "1  CHN  CHN  CHN  CHN  CHN  CHN  CHN  CHN  CHN  CHN  ...  USA  USA  USA  USA   \n",
       "2  JPN  JPN  JPN  JPN  JPN  JPN  JPN  JPN  JPN  JPN  ...  IND  IND  IND  IND   \n",
       "3  GBR  GBR  GBR  GBR  GBR  GBR  GBR  GBR  GBR  GBR  ...  RUS  RUS  RUS  RUS   \n",
       "4  FRA  FRA  FRA  FRA  POL  POL  IND  IND  IND  IND  ...  JPN  JPN  JPN  JPN   \n",
       "\n",
       "  2014 2015 2016 2017 2018 2019  \n",
       "0  CHN  AFG  AFG  AFG  AFG  AFG  \n",
       "1  USA  ALB  ALB  ALB  ALB  ALB  \n",
       "2  IND  DZA  DZA  DZA  DZA  DZA  \n",
       "3  RUS  ASM  ASM  ASM  ASM  ASM  \n",
       "4  JPN  AND  AND  AND  AND  AND  \n",
       "\n",
       "[5 rows x 40 columns]"
      ]
     },
     "execution_count": 44,
     "metadata": {},
     "output_type": "execute_result"
    }
   ],
   "source": [
    "table.iloc[0:5:,20:60]"
   ]
  },
  {
   "cell_type": "markdown",
   "metadata": {},
   "source": [
    "<h4>8.2</h4>\n",
    "<p>Are these five countries carrying out the burden of most of the emissions emitted over the years globally? Can we say that the rest of the world is making some effort to control their polluted gasses emissions over the years?</p>"
   ]
  },
  {
   "cell_type": "markdown",
   "metadata": {
    "tags": [
     "ans_st"
    ]
   },
   "source": [
    "**Answer.**\n",
    "\n",
    "Yes , they are,but they are trying to lowering their emissions.However,we can not  say that the rest of the world is making some effort to control their polluted gasses emissions.They only stop increasing the emissions.\n",
    "\n",
    "From the table, we can see the emissions of these contry are increasing over year. China emission is increasing rapidly."
   ]
  },
  {
   "cell_type": "code",
   "execution_count": 45,
   "metadata": {},
   "outputs": [
    {
     "data": {
      "image/png": "[encoded data removed]",
      "text/plain": [
       "<Figure size 432x288 with 1 Axes>"
      ]
     },
     "metadata": {
      "needs_background": "light"
     },
     "output_type": "display_data"
    }
   ],
   "source": [
    "coutryl=[\"USA\",\"JPN\",\"CHN\",\"RUS\",\"IND\",\"AFG\",\"ALB\"]\n",
    "\n",
    "for i in coutryl:\n",
    "    bb=Emissions_C_df[(Emissions_C_df[\"Country Code\"]==i)&(Emissions_C_df[\"Indicator Name\"]==\"CO2\")][['value','Year']]\n",
    "    plt.plot(bb[\"Year\"].astype(int),bb['value'],label=i)\n",
    "    \n",
    "    plt.legend(loc=\"upper left\")\n",
    "plt.show()\n"
   ]
  },
  {
   "cell_type": "markdown",
   "metadata": {},
   "source": [
    "-------"
   ]
  },
  {
   "cell_type": "markdown",
   "metadata": {},
   "source": [
    "<h2>The health impacts of air pollution</h2>"
   ]
  },
  {
   "cell_type": "markdown",
   "metadata": {},
   "source": [
    "<h3>Exercise 9:</h3>\n",
    "<p>One of the main contributions of poor health from air pollution is particulate matter. In particular, very small particles (those with a size less than 2.5 micrometres ($\\mu$m)) can enter and affect the respiratory system. The <code>PM2.5</code> indicator measures the average level of exposure of a nation's population to concentrations of these small particles. The <code>PM2.5_WHO</code> measures the  percentage of the population who are exposed to ambient concentrations of these particles that exceed some thresholds set by the World Health Organization (WHO). In particular, countries with a higher <code>PM2.5_WHO</code> indicator are more likely to suffer from bad health conditions. </p>\n",
    "<h4>9.1</h4>\n",
    "<p>The client would like to know if there is any relationship between the <code>PM2.5_WHO</code> indicator and the level of income of the general population, as well as how this changes over time. What plot(s) might be helpful to solve the client's question?  What conclusion can you draw from your plot(s) to answer their question?</p>\n",
    "<p><strong>Hint:</strong> The DataFrame <code>WDI_countries</code> contains a column named <code>Income Group</code>. </p>"
   ]
  },
  {
   "cell_type": "markdown",
   "metadata": {
    "tags": [
     "ans_st"
    ]
   },
   "source": [
    "**Answer.**"
   ]
  },
  {
   "cell_type": "markdown",
   "metadata": {},
   "source": [
    "I used box plot to indicate the trend of PM2.5 WHO overtime. I used the linear regression to find the slope of PM2.5 WHO overtime, as the overall trend indicator.\n",
    "\n",
    "From the plot, I found out that 75% of high income country group has negative of PM2.5_WHO. It means that the exposure of PM2.5WHO is descreased overtime. "
   ]
  },
  {
   "cell_type": "markdown",
   "metadata": {},
   "source": [
    "-------"
   ]
  },
  {
   "cell_type": "code",
   "execution_count": 46,
   "metadata": {},
   "outputs": [],
   "source": [
    "gg=Emissions_C_df[(Emissions_C_df[\"Indicator Name\"]==\"PM2.5_WHO\")&(Emissions_C_df[\"value\"]>0)&(Emissions_C_df[\"Country Code\"]==\"USA\")]\n",
    "\n"
   ]
  },
  {
   "cell_type": "code",
   "execution_count": 47,
   "metadata": {},
   "outputs": [
    {
     "name": "stdout",
     "output_type": "stream",
     "text": [
      "Requirement already satisfied: sklearn in c:\\users\\caoth\\.virtualenvs\\calculator-kbkrpklt\\lib\\site-packages (0.0)\n",
      "Requirement already satisfied: scikit-learn in c:\\users\\caoth\\.virtualenvs\\calculator-kbkrpklt\\lib\\site-packages (from sklearn) (1.0)\n",
      "Requirement already satisfied: threadpoolctl>=2.0.0 in c:\\users\\caoth\\.virtualenvs\\calculator-kbkrpklt\\lib\\site-packages (from scikit-learn->sklearn) (3.0.0)"
     ]
    },
    {
     "name": "stderr",
     "output_type": "stream",
     "text": [
      "WARNING: You are using pip version 21.2.2; however, version 21.3 is available.\n",
      "You should consider upgrading via the 'c:\\users\\caoth\\.virtualenvs\\calculator-kbkrpklt\\scripts\\python.exe -m pip install --upgrade pip' command.\n"
     ]
    },
    {
     "name": "stdout",
     "output_type": "stream",
     "text": [
      "\n",
      "Requirement already satisfied: numpy>=1.14.6 in c:\\users\\caoth\\.virtualenvs\\calculator-kbkrpklt\\lib\\site-packages (from scikit-learn->sklearn) (1.21.1)\n",
      "Requirement already satisfied: joblib>=0.11 in c:\\users\\caoth\\.virtualenvs\\calculator-kbkrpklt\\lib\\site-packages (from scikit-learn->sklearn) (1.1.0)\n",
      "Requirement already satisfied: scipy>=1.1.0 in c:\\users\\caoth\\.virtualenvs\\calculator-kbkrpklt\\lib\\site-packages (from scikit-learn->sklearn) (1.7.1)\n"
     ]
    }
   ],
   "source": [
    "!pip install sklearn"
   ]
  },
  {
   "cell_type": "code",
   "execution_count": 48,
   "metadata": {},
   "outputs": [],
   "source": [
    "from sklearn.linear_model import LinearRegression"
   ]
  },
  {
   "cell_type": "code",
   "execution_count": 49,
   "metadata": {},
   "outputs": [],
   "source": [
    "countrycode=Emissions_C_df[\"Country Code\"].unique()"
   ]
  },
  {
   "cell_type": "code",
   "execution_count": 50,
   "metadata": {},
   "outputs": [],
   "source": [
    "gg=Emissions_C_df[(Emissions_C_df[\"Indicator Name\"]==\"PM2.5_WHO\")&(Emissions_C_df[\"value\"]>0)&(Emissions_C_df[\"Country Code\"]==\"USA\")]\n",
    "table2=pd.DataFrame()"
   ]
  },
  {
   "cell_type": "code",
   "execution_count": 51,
   "metadata": {},
   "outputs": [],
   "source": [
    "c=[]\n",
    "r=[]\n",
    "for i in countrycode:\n",
    "    gg=Emissions_C_df[(Emissions_C_df[\"Indicator Name\"]==\"PM2.5_WHO\")&(Emissions_C_df[\"value\"]>0)&(Emissions_C_df[\"Country Code\"]==i)]\n",
    "    x=gg[[\"Year\"]]\n",
    "    y=gg[[\"value\"]]\n",
    "    if len(x)<10:\n",
    "        continue\n",
    "    regressor = LinearRegression()\n",
    "    regressor.fit(x,y)\n",
    "    slope=regressor.coef_\n",
    "    w=slope.tolist()[0][0]\n",
    "    c.append(i)\n",
    "    r.append(w)\n",
    " \n"
   ]
  },
  {
   "cell_type": "code",
   "execution_count": 52,
   "metadata": {},
   "outputs": [
    {
     "data": {
      "text/plain": [
       "191"
      ]
     },
     "execution_count": 52,
     "metadata": {},
     "output_type": "execute_result"
    }
   ],
   "source": [
    "len(r)"
   ]
  },
  {
   "cell_type": "code",
   "execution_count": 53,
   "metadata": {},
   "outputs": [],
   "source": [
    "table2[\"Country code\"]=c\n",
    "table2['slope of country']=r"
   ]
  },
  {
   "cell_type": "code",
   "execution_count": 54,
   "metadata": {},
   "outputs": [],
   "source": [
    "e=[]\n",
    "for i in table2[\"Country code\"]:\n",
    "    d=WDI_country[WDI_country[\"Country Code\"]==i][\"Income Group\"].to_list()[0]\n",
    "    e.append(d)\n",
    "    "
   ]
  },
  {
   "cell_type": "code",
   "execution_count": 55,
   "metadata": {},
   "outputs": [],
   "source": [
    "table2[\"Income Group\"]=e"
   ]
  },
  {
   "cell_type": "code",
   "execution_count": 56,
   "metadata": {},
   "outputs": [
    {
     "data": {
      "text/html": [
       "<div>\n",
       "<style scoped>\n",
       "    .dataframe tbody tr th:only-of-type {\n",
       "        vertical-align: middle;\n",
       "    }\n",
       "\n",
       "    .dataframe tbody tr th {\n",
       "        vertical-align: top;\n",
       "    }\n",
       "\n",
       "    .dataframe thead th {\n",
       "        text-align: right;\n",
       "    }\n",
       "</style>\n",
       "<table border=\"1\" class=\"dataframe\">\n",
       "  <thead>\n",
       "    <tr style=\"text-align: right;\">\n",
       "      <th></th>\n",
       "      <th>Country code</th>\n",
       "      <th>slope of country</th>\n",
       "      <th>Income Group</th>\n",
       "    </tr>\n",
       "  </thead>\n",
       "  <tbody>\n",
       "    <tr>\n",
       "      <th>0</th>\n",
       "      <td>AFG</td>\n",
       "      <td>0.000000e+00</td>\n",
       "      <td>Low income</td>\n",
       "    </tr>\n",
       "    <tr>\n",
       "      <th>1</th>\n",
       "      <td>ALB</td>\n",
       "      <td>4.616437e-13</td>\n",
       "      <td>Upper middle income</td>\n",
       "    </tr>\n",
       "    <tr>\n",
       "      <th>2</th>\n",
       "      <td>DZA</td>\n",
       "      <td>0.000000e+00</td>\n",
       "      <td>Upper middle income</td>\n",
       "    </tr>\n",
       "    <tr>\n",
       "      <th>3</th>\n",
       "      <td>ASM</td>\n",
       "      <td>0.000000e+00</td>\n",
       "      <td>Upper middle income</td>\n",
       "    </tr>\n",
       "    <tr>\n",
       "      <th>4</th>\n",
       "      <td>AND</td>\n",
       "      <td>-2.274640e+00</td>\n",
       "      <td>High income</td>\n",
       "    </tr>\n",
       "    <tr>\n",
       "      <th>5</th>\n",
       "      <td>AGO</td>\n",
       "      <td>0.000000e+00</td>\n",
       "      <td>Lower middle income</td>\n",
       "    </tr>\n",
       "    <tr>\n",
       "      <th>6</th>\n",
       "      <td>ATG</td>\n",
       "      <td>0.000000e+00</td>\n",
       "      <td>High income</td>\n",
       "    </tr>\n",
       "    <tr>\n",
       "      <th>7</th>\n",
       "      <td>ARG</td>\n",
       "      <td>-1.358244e-01</td>\n",
       "      <td>Upper middle income</td>\n",
       "    </tr>\n",
       "    <tr>\n",
       "      <th>8</th>\n",
       "      <td>ARM</td>\n",
       "      <td>0.000000e+00</td>\n",
       "      <td>Upper middle income</td>\n",
       "    </tr>\n",
       "    <tr>\n",
       "      <th>9</th>\n",
       "      <td>AUS</td>\n",
       "      <td>-2.461702e-01</td>\n",
       "      <td>High income</td>\n",
       "    </tr>\n",
       "  </tbody>\n",
       "</table>\n",
       "</div>"
      ],
      "text/plain": [
       "  Country code  slope of country         Income Group\n",
       "0          AFG      0.000000e+00           Low income\n",
       "1          ALB      4.616437e-13  Upper middle income\n",
       "2          DZA      0.000000e+00  Upper middle income\n",
       "3          ASM      0.000000e+00  Upper middle income\n",
       "4          AND     -2.274640e+00          High income\n",
       "5          AGO      0.000000e+00  Lower middle income\n",
       "6          ATG      0.000000e+00          High income\n",
       "7          ARG     -1.358244e-01  Upper middle income\n",
       "8          ARM      0.000000e+00  Upper middle income\n",
       "9          AUS     -2.461702e-01          High income"
      ]
     },
     "execution_count": 56,
     "metadata": {},
     "output_type": "execute_result"
    }
   ],
   "source": [
    "table2.head(10)"
   ]
  },
  {
   "cell_type": "code",
   "execution_count": 57,
   "metadata": {},
   "outputs": [],
   "source": [
    "table2.drop('Country code',axis=1, inplace=True)"
   ]
  },
  {
   "cell_type": "code",
   "execution_count": 58,
   "metadata": {},
   "outputs": [],
   "source": [
    "import seaborn as sns\n",
    "import matplotlib.pyplot as plt"
   ]
  },
  {
   "cell_type": "code",
   "execution_count": 59,
   "metadata": {},
   "outputs": [
    {
     "data": {
      "text/plain": [
       "<AxesSubplot:xlabel='Income Group', ylabel='slope of country'>"
      ]
     },
     "execution_count": 59,
     "metadata": {},
     "output_type": "execute_result"
    },
    {
     "data": {
      "image/png": "[encoded data removed]",
      "text/plain": [
       "<Figure size 576x360 with 1 Axes>"
      ]
     },
     "metadata": {
      "needs_background": "light"
     },
     "output_type": "display_data"
    }
   ],
   "source": [
    "plt.figure(figsize=(8,5))\n",
    "sns.boxplot(x='Income Group',y='slope of country',data=table2)"
   ]
  },
  {
   "cell_type": "markdown",
   "metadata": {},
   "source": [
    "<h4>9.2</h4>\n",
    "<p>What do you think are the causes behind the results in Exercise 9.1?</p>"
   ]
  },
  {
   "cell_type": "markdown",
   "metadata": {
    "tags": [
     "ans_st"
    ]
   },
   "source": [
    "**Answer.**"
   ]
  },
  {
   "cell_type": "markdown",
   "metadata": {},
   "source": [
    "I think the reasons is because the people and goverment in high income countries is aware of the risk of exposure to PM2.5_WHO, so they make new policies and laws to descrease PM2.5_WHO"
   ]
  },
  {
   "cell_type": "markdown",
   "metadata": {},
   "source": [
    "-------"
   ]
  },
  {
   "cell_type": "markdown",
   "metadata": {},
   "source": [
    "<h3>Exercise 10:</h3>\n",
    "<p>Finally, our client is interested in investigating the impacts and relationships between <strong>high levels of exposure to particle matter</strong> and <strong>the health of the population</strong>. Coming up with additional data for this task may be infeasible for the client, thus they have asked us to search for relevant health data in the <code>WDIdata.csv</code> file and work with that. </p>"
   ]
  },
  {
   "cell_type": "markdown",
   "metadata": {},
   "source": [
    "<h4>10.1</h4>\n",
    "<p>Which indicators present in the file  <code>WDISeries.csv</code> file might be useful to solve the client's question? Explain.</p>\n",
    "<p><strong>Note:</strong> Naming one or two indicators is more than enough for this question. </p>"
   ]
  },
  {
   "cell_type": "markdown",
   "metadata": {
    "tags": [
     "ans_st"
    ]
   },
   "source": [
    "**Answer.**\n",
    "Indicator Name:\n",
    "\n",
    "Death rate, crude (per 1,000 people), total (years) (SP.DYN.CDRT.IN), is also a good indicator to find the relationship between high levels of exposure to particle matter</strong> and <strong>the health of the population</strong>\n",
    "I think in long term, the number of death rate will be increased if the number of exposure to partical matter is high. \n",
    "\n",
    "\n",
    "\n",
    "Fertility rate, total (births per woman) (SP.DYN.TFRT.IN), is also a good indicator, I think in long term exposure to partical matter could lead to descrease the number of birth rate overtime."
   ]
  },
  {
   "cell_type": "markdown",
   "metadata": {},
   "source": [
    "-------"
   ]
  },
  {
   "cell_type": "code",
   "execution_count": 60,
   "metadata": {},
   "outputs": [],
   "source": [
    "def subtop1(s):\n",
    "    y=s.rfind(\":\")+1\n",
    "    return s[:y-1]"
   ]
  },
  {
   "cell_type": "code",
   "execution_count": 61,
   "metadata": {},
   "outputs": [],
   "source": [
    "WDI_Series = pd.read_csv(\"./files/WDI_csv/WDISeries.csv\")"
   ]
  },
  {
   "cell_type": "code",
   "execution_count": 62,
   "metadata": {},
   "outputs": [],
   "source": [
    "WDI_Series[\"subtopic\"]=WDI_Series[\"Topic\"].apply(lambda x:subtop1(x))\n",
    "#WDIS1=WDIS1[WDIS1[\"subtopic\"]]\n",
    "\n"
   ]
  },
  {
   "cell_type": "code",
   "execution_count": 207,
   "metadata": {},
   "outputs": [
    {
     "data": {
      "text/plain": [
       "array(['Environment',\n",
       "       'Economic Policy & Debt: Balance of payments: Current account',\n",
       "       'Economic Policy & Debt: Balance of payments', 'Infrastructure',\n",
       "       'Financial Sector', 'Economic Policy & Debt',\n",
       "       'Economic Policy & Debt: External debt',\n",
       "       'World Bank, International Debt Statistics',\n",
       "       'Public Sector: Government finance', 'Public Sector'], dtype=object)"
      ]
     },
     "execution_count": 207,
     "metadata": {},
     "output_type": "execute_result"
    }
   ],
   "source": [
    "WDI_Series[\"subtopic\"].unique()[:10]"
   ]
  },
  {
   "cell_type": "code",
   "execution_count": 64,
   "metadata": {},
   "outputs": [
    {
     "data": {
      "text/html": [
       "<div>\n",
       "<style scoped>\n",
       "    .dataframe tbody tr th:only-of-type {\n",
       "        vertical-align: middle;\n",
       "    }\n",
       "\n",
       "    .dataframe tbody tr th {\n",
       "        vertical-align: top;\n",
       "    }\n",
       "\n",
       "    .dataframe thead th {\n",
       "        text-align: right;\n",
       "    }\n",
       "</style>\n",
       "<table border=\"1\" class=\"dataframe\">\n",
       "  <thead>\n",
       "    <tr style=\"text-align: right;\">\n",
       "      <th></th>\n",
       "      <th>Series Code</th>\n",
       "      <th>Topic</th>\n",
       "      <th>Indicator Name</th>\n",
       "      <th>Short definition</th>\n",
       "      <th>Long definition</th>\n",
       "      <th>Unit of measure</th>\n",
       "      <th>Periodicity</th>\n",
       "      <th>Base Period</th>\n",
       "      <th>Other notes</th>\n",
       "      <th>Aggregation method</th>\n",
       "      <th>...</th>\n",
       "      <th>General comments</th>\n",
       "      <th>Source</th>\n",
       "      <th>Statistical concept and methodology</th>\n",
       "      <th>Development relevance</th>\n",
       "      <th>Related source links</th>\n",
       "      <th>Other web links</th>\n",
       "      <th>Related indicators</th>\n",
       "      <th>License Type</th>\n",
       "      <th>Unnamed: 20</th>\n",
       "      <th>subtopic</th>\n",
       "    </tr>\n",
       "  </thead>\n",
       "  <tbody>\n",
       "    <tr>\n",
       "      <th>1243</th>\n",
       "      <td>SP.DYN.TFRT.IN</td>\n",
       "      <td>Health: Reproductive health</td>\n",
       "      <td>Fertility rate, total (births per woman)</td>\n",
       "      <td>NaN</td>\n",
       "      <td>Total fertility rate represents the number of ...</td>\n",
       "      <td>NaN</td>\n",
       "      <td>Annual</td>\n",
       "      <td>NaN</td>\n",
       "      <td>NaN</td>\n",
       "      <td>Weighted average</td>\n",
       "      <td>...</td>\n",
       "      <td>Relevance to gender indicator: it can indicate...</td>\n",
       "      <td>(1) United Nations Population Division. World ...</td>\n",
       "      <td>Total fertility rates are based on data on reg...</td>\n",
       "      <td>Reproductive health is a state of physical and...</td>\n",
       "      <td>NaN</td>\n",
       "      <td>NaN</td>\n",
       "      <td>NaN</td>\n",
       "      <td>CC BY-4.0</td>\n",
       "      <td>NaN</td>\n",
       "      <td>Health</td>\n",
       "    </tr>\n",
       "  </tbody>\n",
       "</table>\n",
       "<p>1 rows × 22 columns</p>\n",
       "</div>"
      ],
      "text/plain": [
       "         Series Code                        Topic  \\\n",
       "1243  SP.DYN.TFRT.IN  Health: Reproductive health   \n",
       "\n",
       "                                Indicator Name Short definition  \\\n",
       "1243  Fertility rate, total (births per woman)              NaN   \n",
       "\n",
       "                                        Long definition Unit of measure  \\\n",
       "1243  Total fertility rate represents the number of ...             NaN   \n",
       "\n",
       "     Periodicity Base Period Other notes Aggregation method  ...  \\\n",
       "1243      Annual         NaN         NaN   Weighted average  ...   \n",
       "\n",
       "                                       General comments  \\\n",
       "1243  Relevance to gender indicator: it can indicate...   \n",
       "\n",
       "                                                 Source  \\\n",
       "1243  (1) United Nations Population Division. World ...   \n",
       "\n",
       "                    Statistical concept and methodology  \\\n",
       "1243  Total fertility rates are based on data on reg...   \n",
       "\n",
       "                                  Development relevance Related source links  \\\n",
       "1243  Reproductive health is a state of physical and...                  NaN   \n",
       "\n",
       "     Other web links Related indicators  License Type Unnamed: 20 subtopic  \n",
       "1243             NaN                NaN     CC BY-4.0         NaN   Health  \n",
       "\n",
       "[1 rows x 22 columns]"
      ]
     },
     "execution_count": 64,
     "metadata": {},
     "output_type": "execute_result"
    }
   ],
   "source": [
    "WDI_Series[WDI_Series[\"Indicator Name\"]==\"Fertility rate, total (births per woman)\"]"
   ]
  },
  {
   "cell_type": "code",
   "execution_count": 205,
   "metadata": {},
   "outputs": [
    {
     "data": {
      "text/plain": [
       "array(['Total alcohol consumption per capita, female (liters of pure alcohol, projected estimates, female 15+ years of age)',\n",
       "       'Total alcohol consumption per capita (liters of pure alcohol, projected estimates, 15+ years of age)',\n",
       "       'Total alcohol consumption per capita, male (liters of pure alcohol, projected estimates, male 15+ years of age)',\n",
       "       'Prevalence of anemia among women of reproductive age (% of women ages 15-49)',\n",
       "       'Prevalence of anemia among children (% of children under 5)',\n",
       "       'Prevalence of anemia among non-pregnant women (% of women ages 15-49)',\n",
       "       'Condom use, population ages 15-24, female (% of females ages 15-24)',\n",
       "       'Condom use, population ages 15-24, male (% of males ages 15-24)',\n",
       "       'Number of deaths ages 5-14 years',\n",
       "       'Cause of death, by communicable diseases and maternal, prenatal and nutrition conditions (% of total)'],\n",
       "      dtype=object)"
      ]
     },
     "execution_count": 205,
     "metadata": {},
     "output_type": "execute_result"
    }
   ],
   "source": [
    "WDI_Series[WDI_Series[\"subtopic\"]==\"Health\"][\"Indicator Name\"].unique()[:10]"
   ]
  },
  {
   "cell_type": "code",
   "execution_count": 66,
   "metadata": {},
   "outputs": [
    {
     "data": {
      "text/html": [
       "<div>\n",
       "<style scoped>\n",
       "    .dataframe tbody tr th:only-of-type {\n",
       "        vertical-align: middle;\n",
       "    }\n",
       "\n",
       "    .dataframe tbody tr th {\n",
       "        vertical-align: top;\n",
       "    }\n",
       "\n",
       "    .dataframe thead th {\n",
       "        text-align: right;\n",
       "    }\n",
       "</style>\n",
       "<table border=\"1\" class=\"dataframe\">\n",
       "  <thead>\n",
       "    <tr style=\"text-align: right;\">\n",
       "      <th></th>\n",
       "      <th>Country Name</th>\n",
       "      <th>Country Code</th>\n",
       "      <th>Indicator Name</th>\n",
       "      <th>Indicator Code</th>\n",
       "      <th>1960</th>\n",
       "      <th>1961</th>\n",
       "      <th>1962</th>\n",
       "      <th>1963</th>\n",
       "      <th>1964</th>\n",
       "      <th>1965</th>\n",
       "      <th>...</th>\n",
       "      <th>2011</th>\n",
       "      <th>2012</th>\n",
       "      <th>2013</th>\n",
       "      <th>2014</th>\n",
       "      <th>2015</th>\n",
       "      <th>2016</th>\n",
       "      <th>2017</th>\n",
       "      <th>2018</th>\n",
       "      <th>2019</th>\n",
       "      <th>Unnamed: 64</th>\n",
       "    </tr>\n",
       "  </thead>\n",
       "  <tbody>\n",
       "    <tr>\n",
       "      <th>422</th>\n",
       "      <td>Arab World</td>\n",
       "      <td>ARB</td>\n",
       "      <td>Fertility rate, total (births per woman)</td>\n",
       "      <td>SP.DYN.TFRT.IN</td>\n",
       "      <td>6.977256</td>\n",
       "      <td>6.998635</td>\n",
       "      <td>7.018725</td>\n",
       "      <td>7.035036</td>\n",
       "      <td>7.045690</td>\n",
       "      <td>7.049042</td>\n",
       "      <td>...</td>\n",
       "      <td>3.463100</td>\n",
       "      <td>3.450654</td>\n",
       "      <td>3.430464</td>\n",
       "      <td>3.402059</td>\n",
       "      <td>3.365221</td>\n",
       "      <td>3.322465</td>\n",
       "      <td>3.276553</td>\n",
       "      <td>NaN</td>\n",
       "      <td>NaN</td>\n",
       "      <td>NaN</td>\n",
       "    </tr>\n",
       "    <tr>\n",
       "      <th>1851</th>\n",
       "      <td>Caribbean small states</td>\n",
       "      <td>CSS</td>\n",
       "      <td>Fertility rate, total (births per woman)</td>\n",
       "      <td>SP.DYN.TFRT.IN</td>\n",
       "      <td>5.600346</td>\n",
       "      <td>5.613682</td>\n",
       "      <td>5.604205</td>\n",
       "      <td>5.571820</td>\n",
       "      <td>5.517188</td>\n",
       "      <td>5.442335</td>\n",
       "      <td>...</td>\n",
       "      <td>2.129433</td>\n",
       "      <td>2.106453</td>\n",
       "      <td>2.084480</td>\n",
       "      <td>2.064269</td>\n",
       "      <td>2.045250</td>\n",
       "      <td>2.027646</td>\n",
       "      <td>2.010753</td>\n",
       "      <td>NaN</td>\n",
       "      <td>NaN</td>\n",
       "      <td>NaN</td>\n",
       "    </tr>\n",
       "    <tr>\n",
       "      <th>3280</th>\n",
       "      <td>Central Europe and the Baltics</td>\n",
       "      <td>CEB</td>\n",
       "      <td>Fertility rate, total (births per woman)</td>\n",
       "      <td>SP.DYN.TFRT.IN</td>\n",
       "      <td>2.497094</td>\n",
       "      <td>2.400683</td>\n",
       "      <td>2.309179</td>\n",
       "      <td>2.313874</td>\n",
       "      <td>2.258712</td>\n",
       "      <td>2.198710</td>\n",
       "      <td>...</td>\n",
       "      <td>1.396132</td>\n",
       "      <td>1.415728</td>\n",
       "      <td>1.387970</td>\n",
       "      <td>1.443182</td>\n",
       "      <td>1.454272</td>\n",
       "      <td>1.512178</td>\n",
       "      <td>1.511744</td>\n",
       "      <td>NaN</td>\n",
       "      <td>NaN</td>\n",
       "      <td>NaN</td>\n",
       "    </tr>\n",
       "    <tr>\n",
       "      <th>4709</th>\n",
       "      <td>Early-demographic dividend</td>\n",
       "      <td>EAR</td>\n",
       "      <td>Fertility rate, total (births per woman)</td>\n",
       "      <td>SP.DYN.TFRT.IN</td>\n",
       "      <td>6.144222</td>\n",
       "      <td>6.142534</td>\n",
       "      <td>6.137460</td>\n",
       "      <td>6.128024</td>\n",
       "      <td>6.113365</td>\n",
       "      <td>6.092993</td>\n",
       "      <td>...</td>\n",
       "      <td>2.723594</td>\n",
       "      <td>2.679546</td>\n",
       "      <td>2.640894</td>\n",
       "      <td>2.605368</td>\n",
       "      <td>2.572599</td>\n",
       "      <td>2.541626</td>\n",
       "      <td>2.513407</td>\n",
       "      <td>NaN</td>\n",
       "      <td>NaN</td>\n",
       "      <td>NaN</td>\n",
       "    </tr>\n",
       "    <tr>\n",
       "      <th>6138</th>\n",
       "      <td>East Asia &amp; Pacific</td>\n",
       "      <td>EAS</td>\n",
       "      <td>Fertility rate, total (births per woman)</td>\n",
       "      <td>SP.DYN.TFRT.IN</td>\n",
       "      <td>5.396406</td>\n",
       "      <td>5.471164</td>\n",
       "      <td>5.545254</td>\n",
       "      <td>5.619571</td>\n",
       "      <td>5.677623</td>\n",
       "      <td>5.716044</td>\n",
       "      <td>...</td>\n",
       "      <td>1.822640</td>\n",
       "      <td>1.828716</td>\n",
       "      <td>1.825114</td>\n",
       "      <td>1.827716</td>\n",
       "      <td>1.831082</td>\n",
       "      <td>1.829604</td>\n",
       "      <td>1.826155</td>\n",
       "      <td>NaN</td>\n",
       "      <td>NaN</td>\n",
       "      <td>NaN</td>\n",
       "    </tr>\n",
       "  </tbody>\n",
       "</table>\n",
       "<p>5 rows × 65 columns</p>\n",
       "</div>"
      ],
      "text/plain": [
       "                        Country Name Country Code  \\\n",
       "422                       Arab World          ARB   \n",
       "1851          Caribbean small states          CSS   \n",
       "3280  Central Europe and the Baltics          CEB   \n",
       "4709      Early-demographic dividend          EAR   \n",
       "6138             East Asia & Pacific          EAS   \n",
       "\n",
       "                                Indicator Name  Indicator Code      1960  \\\n",
       "422   Fertility rate, total (births per woman)  SP.DYN.TFRT.IN  6.977256   \n",
       "1851  Fertility rate, total (births per woman)  SP.DYN.TFRT.IN  5.600346   \n",
       "3280  Fertility rate, total (births per woman)  SP.DYN.TFRT.IN  2.497094   \n",
       "4709  Fertility rate, total (births per woman)  SP.DYN.TFRT.IN  6.144222   \n",
       "6138  Fertility rate, total (births per woman)  SP.DYN.TFRT.IN  5.396406   \n",
       "\n",
       "          1961      1962      1963      1964      1965  ...      2011  \\\n",
       "422   6.998635  7.018725  7.035036  7.045690  7.049042  ...  3.463100   \n",
       "1851  5.613682  5.604205  5.571820  5.517188  5.442335  ...  2.129433   \n",
       "3280  2.400683  2.309179  2.313874  2.258712  2.198710  ...  1.396132   \n",
       "4709  6.142534  6.137460  6.128024  6.113365  6.092993  ...  2.723594   \n",
       "6138  5.471164  5.545254  5.619571  5.677623  5.716044  ...  1.822640   \n",
       "\n",
       "          2012      2013      2014      2015      2016      2017  2018  2019  \\\n",
       "422   3.450654  3.430464  3.402059  3.365221  3.322465  3.276553   NaN   NaN   \n",
       "1851  2.106453  2.084480  2.064269  2.045250  2.027646  2.010753   NaN   NaN   \n",
       "3280  1.415728  1.387970  1.443182  1.454272  1.512178  1.511744   NaN   NaN   \n",
       "4709  2.679546  2.640894  2.605368  2.572599  2.541626  2.513407   NaN   NaN   \n",
       "6138  1.828716  1.825114  1.827716  1.831082  1.829604  1.826155   NaN   NaN   \n",
       "\n",
       "      Unnamed: 64  \n",
       "422           NaN  \n",
       "1851          NaN  \n",
       "3280          NaN  \n",
       "4709          NaN  \n",
       "6138          NaN  \n",
       "\n",
       "[5 rows x 65 columns]"
      ]
     },
     "execution_count": 66,
     "metadata": {},
     "output_type": "execute_result"
    }
   ],
   "source": [
    "WDI_data[WDI_data[\"Indicator Code\"]==\"SP.DYN.TFRT.IN\"].head()"
   ]
  },
  {
   "cell_type": "code",
   "execution_count": 204,
   "metadata": {},
   "outputs": [
    {
     "data": {
      "text/plain": [
       "array(['Total alcohol consumption per capita, female (liters of pure alcohol, projected estimates, female 15+ years of age)',\n",
       "       'Total alcohol consumption per capita (liters of pure alcohol, projected estimates, 15+ years of age)',\n",
       "       'Total alcohol consumption per capita, male (liters of pure alcohol, projected estimates, male 15+ years of age)',\n",
       "       'Prevalence of anemia among women of reproductive age (% of women ages 15-49)',\n",
       "       'Prevalence of anemia among children (% of children under 5)',\n",
       "       'Prevalence of anemia among non-pregnant women (% of women ages 15-49)',\n",
       "       'Condom use, population ages 15-24, female (% of females ages 15-24)',\n",
       "       'Condom use, population ages 15-24, male (% of males ages 15-24)',\n",
       "       'Number of deaths ages 5-14 years',\n",
       "       'Cause of death, by communicable diseases and maternal, prenatal and nutrition conditions (% of total)'],\n",
       "      dtype=object)"
      ]
     },
     "execution_count": 204,
     "metadata": {},
     "output_type": "execute_result"
    }
   ],
   "source": [
    "WDI_Series[WDI_Series[\"subtopic\"]==\"Health\"][\"Indicator Name\"].unique()[:10]"
   ]
  },
  {
   "cell_type": "markdown",
   "metadata": {},
   "source": [
    "<h4>10.2</h4>\n",
    "<p>Use the indicators provided in Exercise 10.1 to give valuable information to the client. </p>"
   ]
  },
  {
   "cell_type": "markdown",
   "metadata": {
    "tags": [
     "ans_st"
    ]
   },
   "source": [
    "**Answer.**"
   ]
  },
  {
   "cell_type": "markdown",
   "metadata": {},
   "source": [
    "-------"
   ]
  },
  {
   "cell_type": "code",
   "execution_count": 68,
   "metadata": {},
   "outputs": [],
   "source": [
    "brtable=Emissions_C_df[(Emissions_C_df[\"Indicator Name\"]==\"PM2.5_WHO\")].copy()"
   ]
  },
  {
   "cell_type": "code",
   "execution_count": 69,
   "metadata": {},
   "outputs": [
    {
     "data": {
      "text/html": [
       "<div>\n",
       "<style scoped>\n",
       "    .dataframe tbody tr th:only-of-type {\n",
       "        vertical-align: middle;\n",
       "    }\n",
       "\n",
       "    .dataframe tbody tr th {\n",
       "        vertical-align: top;\n",
       "    }\n",
       "\n",
       "    .dataframe thead th {\n",
       "        text-align: right;\n",
       "    }\n",
       "</style>\n",
       "<table border=\"1\" class=\"dataframe\">\n",
       "  <thead>\n",
       "    <tr style=\"text-align: right;\">\n",
       "      <th></th>\n",
       "      <th>Country Name</th>\n",
       "      <th>Country Code</th>\n",
       "      <th>Indicator Name</th>\n",
       "      <th>Indicator Code</th>\n",
       "      <th>Year</th>\n",
       "      <th>value</th>\n",
       "    </tr>\n",
       "  </thead>\n",
       "  <tbody>\n",
       "    <tr>\n",
       "      <th>2009</th>\n",
       "      <td>Afghanistan</td>\n",
       "      <td>AFG</td>\n",
       "      <td>PM2.5_WHO</td>\n",
       "      <td>EN.ATM.PM25.MC.ZS</td>\n",
       "      <td>1960</td>\n",
       "      <td>NaN</td>\n",
       "    </tr>\n",
       "    <tr>\n",
       "      <th>2051</th>\n",
       "      <td>Albania</td>\n",
       "      <td>ALB</td>\n",
       "      <td>PM2.5_WHO</td>\n",
       "      <td>EN.ATM.PM25.MC.ZS</td>\n",
       "      <td>1960</td>\n",
       "      <td>NaN</td>\n",
       "    </tr>\n",
       "    <tr>\n",
       "      <th>2093</th>\n",
       "      <td>Algeria</td>\n",
       "      <td>DZA</td>\n",
       "      <td>PM2.5_WHO</td>\n",
       "      <td>EN.ATM.PM25.MC.ZS</td>\n",
       "      <td>1960</td>\n",
       "      <td>NaN</td>\n",
       "    </tr>\n",
       "    <tr>\n",
       "      <th>2135</th>\n",
       "      <td>American Samoa</td>\n",
       "      <td>ASM</td>\n",
       "      <td>PM2.5_WHO</td>\n",
       "      <td>EN.ATM.PM25.MC.ZS</td>\n",
       "      <td>1960</td>\n",
       "      <td>NaN</td>\n",
       "    </tr>\n",
       "    <tr>\n",
       "      <th>2177</th>\n",
       "      <td>Andorra</td>\n",
       "      <td>AND</td>\n",
       "      <td>PM2.5_WHO</td>\n",
       "      <td>EN.ATM.PM25.MC.ZS</td>\n",
       "      <td>1960</td>\n",
       "      <td>NaN</td>\n",
       "    </tr>\n",
       "    <tr>\n",
       "      <th>...</th>\n",
       "      <td>...</td>\n",
       "      <td>...</td>\n",
       "      <td>...</td>\n",
       "      <td>...</td>\n",
       "      <td>...</td>\n",
       "      <td>...</td>\n",
       "    </tr>\n",
       "    <tr>\n",
       "      <th>665105</th>\n",
       "      <td>Virgin Islands (U.S.)</td>\n",
       "      <td>VIR</td>\n",
       "      <td>PM2.5_WHO</td>\n",
       "      <td>EN.ATM.PM25.MC.ZS</td>\n",
       "      <td>2019</td>\n",
       "      <td>NaN</td>\n",
       "    </tr>\n",
       "    <tr>\n",
       "      <th>665147</th>\n",
       "      <td>West Bank and Gaza</td>\n",
       "      <td>PSE</td>\n",
       "      <td>PM2.5_WHO</td>\n",
       "      <td>EN.ATM.PM25.MC.ZS</td>\n",
       "      <td>2019</td>\n",
       "      <td>NaN</td>\n",
       "    </tr>\n",
       "    <tr>\n",
       "      <th>665189</th>\n",
       "      <td>Yemen, Rep.</td>\n",
       "      <td>YEM</td>\n",
       "      <td>PM2.5_WHO</td>\n",
       "      <td>EN.ATM.PM25.MC.ZS</td>\n",
       "      <td>2019</td>\n",
       "      <td>NaN</td>\n",
       "    </tr>\n",
       "    <tr>\n",
       "      <th>665231</th>\n",
       "      <td>Zambia</td>\n",
       "      <td>ZMB</td>\n",
       "      <td>PM2.5_WHO</td>\n",
       "      <td>EN.ATM.PM25.MC.ZS</td>\n",
       "      <td>2019</td>\n",
       "      <td>NaN</td>\n",
       "    </tr>\n",
       "    <tr>\n",
       "      <th>665273</th>\n",
       "      <td>Zimbabwe</td>\n",
       "      <td>ZWE</td>\n",
       "      <td>PM2.5_WHO</td>\n",
       "      <td>EN.ATM.PM25.MC.ZS</td>\n",
       "      <td>2019</td>\n",
       "      <td>NaN</td>\n",
       "    </tr>\n",
       "  </tbody>\n",
       "</table>\n",
       "<p>13020 rows × 6 columns</p>\n",
       "</div>"
      ],
      "text/plain": [
       "                 Country Name Country Code Indicator Name     Indicator Code  \\\n",
       "2009              Afghanistan          AFG      PM2.5_WHO  EN.ATM.PM25.MC.ZS   \n",
       "2051                  Albania          ALB      PM2.5_WHO  EN.ATM.PM25.MC.ZS   \n",
       "2093                  Algeria          DZA      PM2.5_WHO  EN.ATM.PM25.MC.ZS   \n",
       "2135           American Samoa          ASM      PM2.5_WHO  EN.ATM.PM25.MC.ZS   \n",
       "2177                  Andorra          AND      PM2.5_WHO  EN.ATM.PM25.MC.ZS   \n",
       "...                       ...          ...            ...                ...   \n",
       "665105  Virgin Islands (U.S.)          VIR      PM2.5_WHO  EN.ATM.PM25.MC.ZS   \n",
       "665147     West Bank and Gaza          PSE      PM2.5_WHO  EN.ATM.PM25.MC.ZS   \n",
       "665189            Yemen, Rep.          YEM      PM2.5_WHO  EN.ATM.PM25.MC.ZS   \n",
       "665231                 Zambia          ZMB      PM2.5_WHO  EN.ATM.PM25.MC.ZS   \n",
       "665273               Zimbabwe          ZWE      PM2.5_WHO  EN.ATM.PM25.MC.ZS   \n",
       "\n",
       "        Year  value  \n",
       "2009    1960    NaN  \n",
       "2051    1960    NaN  \n",
       "2093    1960    NaN  \n",
       "2135    1960    NaN  \n",
       "2177    1960    NaN  \n",
       "...      ...    ...  \n",
       "665105  2019    NaN  \n",
       "665147  2019    NaN  \n",
       "665189  2019    NaN  \n",
       "665231  2019    NaN  \n",
       "665273  2019    NaN  \n",
       "\n",
       "[13020 rows x 6 columns]"
      ]
     },
     "execution_count": 69,
     "metadata": {},
     "output_type": "execute_result"
    }
   ],
   "source": [
    "brtable"
   ]
  },
  {
   "cell_type": "code",
   "execution_count": 70,
   "metadata": {},
   "outputs": [],
   "source": [
    "br=WDI_data[WDI_data[\"Indicator Code\"]==\"SP.DYN.TFRT.IN\"]\n"
   ]
  },
  {
   "cell_type": "code",
   "execution_count": 203,
   "metadata": {},
   "outputs": [
    {
     "data": {
      "text/plain": [
       "array(['Total alcohol consumption per capita, female (liters of pure alcohol, projected estimates, female 15+ years of age)',\n",
       "       'Total alcohol consumption per capita (liters of pure alcohol, projected estimates, 15+ years of age)',\n",
       "       'Total alcohol consumption per capita, male (liters of pure alcohol, projected estimates, male 15+ years of age)',\n",
       "       'Prevalence of anemia among women of reproductive age (% of women ages 15-49)',\n",
       "       'Prevalence of anemia among children (% of children under 5)',\n",
       "       'Prevalence of anemia among non-pregnant women (% of women ages 15-49)',\n",
       "       'Condom use, population ages 15-24, female (% of females ages 15-24)',\n",
       "       'Condom use, population ages 15-24, male (% of males ages 15-24)',\n",
       "       'Number of deaths ages 5-14 years',\n",
       "       'Cause of death, by communicable diseases and maternal, prenatal and nutrition conditions (% of total)'],\n",
       "      dtype=object)"
      ]
     },
     "execution_count": 203,
     "metadata": {},
     "output_type": "execute_result"
    }
   ],
   "source": [
    "WDI_Series[WDI_Series[\"subtopic\"]==\"Health\"][\"Indicator Name\"].unique()[:10]"
   ]
  },
  {
   "cell_type": "code",
   "execution_count": 72,
   "metadata": {},
   "outputs": [
    {
     "data": {
      "text/html": [
       "<div>\n",
       "<style scoped>\n",
       "    .dataframe tbody tr th:only-of-type {\n",
       "        vertical-align: middle;\n",
       "    }\n",
       "\n",
       "    .dataframe tbody tr th {\n",
       "        vertical-align: top;\n",
       "    }\n",
       "\n",
       "    .dataframe thead th {\n",
       "        text-align: right;\n",
       "    }\n",
       "</style>\n",
       "<table border=\"1\" class=\"dataframe\">\n",
       "  <thead>\n",
       "    <tr style=\"text-align: right;\">\n",
       "      <th></th>\n",
       "      <th>Country Name</th>\n",
       "      <th>Country Code</th>\n",
       "      <th>Indicator Name</th>\n",
       "      <th>Indicator Code</th>\n",
       "      <th>Year</th>\n",
       "      <th>value</th>\n",
       "    </tr>\n",
       "  </thead>\n",
       "  <tbody>\n",
       "    <tr>\n",
       "      <th>0</th>\n",
       "      <td>Arab World</td>\n",
       "      <td>ARB</td>\n",
       "      <td>Fertility rate, total (births per woman)</td>\n",
       "      <td>SP.DYN.TFRT.IN</td>\n",
       "      <td>1960</td>\n",
       "      <td>6.977256</td>\n",
       "    </tr>\n",
       "    <tr>\n",
       "      <th>1</th>\n",
       "      <td>Caribbean small states</td>\n",
       "      <td>CSS</td>\n",
       "      <td>Fertility rate, total (births per woman)</td>\n",
       "      <td>SP.DYN.TFRT.IN</td>\n",
       "      <td>1960</td>\n",
       "      <td>5.600346</td>\n",
       "    </tr>\n",
       "    <tr>\n",
       "      <th>2</th>\n",
       "      <td>Central Europe and the Baltics</td>\n",
       "      <td>CEB</td>\n",
       "      <td>Fertility rate, total (births per woman)</td>\n",
       "      <td>SP.DYN.TFRT.IN</td>\n",
       "      <td>1960</td>\n",
       "      <td>2.497094</td>\n",
       "    </tr>\n",
       "    <tr>\n",
       "      <th>3</th>\n",
       "      <td>Early-demographic dividend</td>\n",
       "      <td>EAR</td>\n",
       "      <td>Fertility rate, total (births per woman)</td>\n",
       "      <td>SP.DYN.TFRT.IN</td>\n",
       "      <td>1960</td>\n",
       "      <td>6.144222</td>\n",
       "    </tr>\n",
       "    <tr>\n",
       "      <th>4</th>\n",
       "      <td>East Asia &amp; Pacific</td>\n",
       "      <td>EAS</td>\n",
       "      <td>Fertility rate, total (births per woman)</td>\n",
       "      <td>SP.DYN.TFRT.IN</td>\n",
       "      <td>1960</td>\n",
       "      <td>5.396406</td>\n",
       "    </tr>\n",
       "  </tbody>\n",
       "</table>\n",
       "</div>"
      ],
      "text/plain": [
       "                     Country Name Country Code  \\\n",
       "0                      Arab World          ARB   \n",
       "1          Caribbean small states          CSS   \n",
       "2  Central Europe and the Baltics          CEB   \n",
       "3      Early-demographic dividend          EAR   \n",
       "4             East Asia & Pacific          EAS   \n",
       "\n",
       "                             Indicator Name  Indicator Code  Year     value  \n",
       "0  Fertility rate, total (births per woman)  SP.DYN.TFRT.IN  1960  6.977256  \n",
       "1  Fertility rate, total (births per woman)  SP.DYN.TFRT.IN  1960  5.600346  \n",
       "2  Fertility rate, total (births per woman)  SP.DYN.TFRT.IN  1960  2.497094  \n",
       "3  Fertility rate, total (births per woman)  SP.DYN.TFRT.IN  1960  6.144222  \n",
       "4  Fertility rate, total (births per woman)  SP.DYN.TFRT.IN  1960  5.396406  "
      ]
     },
     "execution_count": 72,
     "metadata": {},
     "output_type": "execute_result"
    }
   ],
   "source": [
    "bre=br.melt(id_vars=keep,value_vars=co,var_name=[\"Year\"])\n",
    "bre.head()"
   ]
  },
  {
   "cell_type": "code",
   "execution_count": 73,
   "metadata": {},
   "outputs": [
    {
     "data": {
      "text/html": [
       "<div>\n",
       "<style scoped>\n",
       "    .dataframe tbody tr th:only-of-type {\n",
       "        vertical-align: middle;\n",
       "    }\n",
       "\n",
       "    .dataframe tbody tr th {\n",
       "        vertical-align: top;\n",
       "    }\n",
       "\n",
       "    .dataframe thead th {\n",
       "        text-align: right;\n",
       "    }\n",
       "</style>\n",
       "<table border=\"1\" class=\"dataframe\">\n",
       "  <thead>\n",
       "    <tr style=\"text-align: right;\">\n",
       "      <th></th>\n",
       "      <th>Country Name</th>\n",
       "      <th>Country Code</th>\n",
       "      <th>Indicator Name</th>\n",
       "      <th>Indicator Code</th>\n",
       "      <th>Year</th>\n",
       "      <th>value</th>\n",
       "    </tr>\n",
       "  </thead>\n",
       "  <tbody>\n",
       "    <tr>\n",
       "      <th>47</th>\n",
       "      <td>Afghanistan</td>\n",
       "      <td>AFG</td>\n",
       "      <td>Fertility rate, total (births per woman)</td>\n",
       "      <td>SP.DYN.TFRT.IN</td>\n",
       "      <td>1960</td>\n",
       "      <td>7.45</td>\n",
       "    </tr>\n",
       "    <tr>\n",
       "      <th>311</th>\n",
       "      <td>Afghanistan</td>\n",
       "      <td>AFG</td>\n",
       "      <td>Fertility rate, total (births per woman)</td>\n",
       "      <td>SP.DYN.TFRT.IN</td>\n",
       "      <td>1961</td>\n",
       "      <td>7.45</td>\n",
       "    </tr>\n",
       "    <tr>\n",
       "      <th>575</th>\n",
       "      <td>Afghanistan</td>\n",
       "      <td>AFG</td>\n",
       "      <td>Fertility rate, total (births per woman)</td>\n",
       "      <td>SP.DYN.TFRT.IN</td>\n",
       "      <td>1962</td>\n",
       "      <td>7.45</td>\n",
       "    </tr>\n",
       "    <tr>\n",
       "      <th>839</th>\n",
       "      <td>Afghanistan</td>\n",
       "      <td>AFG</td>\n",
       "      <td>Fertility rate, total (births per woman)</td>\n",
       "      <td>SP.DYN.TFRT.IN</td>\n",
       "      <td>1963</td>\n",
       "      <td>7.45</td>\n",
       "    </tr>\n",
       "    <tr>\n",
       "      <th>1103</th>\n",
       "      <td>Afghanistan</td>\n",
       "      <td>AFG</td>\n",
       "      <td>Fertility rate, total (births per woman)</td>\n",
       "      <td>SP.DYN.TFRT.IN</td>\n",
       "      <td>1964</td>\n",
       "      <td>7.45</td>\n",
       "    </tr>\n",
       "  </tbody>\n",
       "</table>\n",
       "</div>"
      ],
      "text/plain": [
       "     Country Name Country Code                            Indicator Name  \\\n",
       "47    Afghanistan          AFG  Fertility rate, total (births per woman)   \n",
       "311   Afghanistan          AFG  Fertility rate, total (births per woman)   \n",
       "575   Afghanistan          AFG  Fertility rate, total (births per woman)   \n",
       "839   Afghanistan          AFG  Fertility rate, total (births per woman)   \n",
       "1103  Afghanistan          AFG  Fertility rate, total (births per woman)   \n",
       "\n",
       "      Indicator Code  Year  value  \n",
       "47    SP.DYN.TFRT.IN  1960   7.45  \n",
       "311   SP.DYN.TFRT.IN  1961   7.45  \n",
       "575   SP.DYN.TFRT.IN  1962   7.45  \n",
       "839   SP.DYN.TFRT.IN  1963   7.45  \n",
       "1103  SP.DYN.TFRT.IN  1964   7.45  "
      ]
     },
     "execution_count": 73,
     "metadata": {},
     "output_type": "execute_result"
    }
   ],
   "source": [
    "bre[bre[\"Country Code\"]==\"AFG\"].head()"
   ]
  },
  {
   "cell_type": "code",
   "execution_count": 98,
   "metadata": {},
   "outputs": [
    {
     "data": {
      "text/plain": [
       "list"
      ]
     },
     "execution_count": 98,
     "metadata": {},
     "output_type": "execute_result"
    }
   ],
   "source": [
    "brtable[\"Year\"]=brtable[\"Year\"].to_list()\n",
    "type(brtable[\"Year\"].tolist())"
   ]
  },
  {
   "cell_type": "code",
   "execution_count": null,
   "metadata": {},
   "outputs": [],
   "source": [
    "brtable[\"Year\"].tolist()"
   ]
  },
  {
   "cell_type": "code",
   "execution_count": 93,
   "metadata": {},
   "outputs": [],
   "source": [
    "brtable[\"Year\"]=brtable[\"Year\"]."
   ]
  },
  {
   "cell_type": "code",
   "execution_count": 97,
   "metadata": {},
   "outputs": [
    {
     "data": {
      "text/plain": [
       "2009      1960\n",
       "2051      1960\n",
       "2093      1960\n",
       "2135      1960\n",
       "2177      1960\n",
       "          ... \n",
       "665105    2019\n",
       "665147    2019\n",
       "665189    2019\n",
       "665231    2019\n",
       "665273    2019\n",
       "Name: Year, Length: 13020, dtype: object"
      ]
     },
     "execution_count": 97,
     "metadata": {},
     "output_type": "execute_result"
    }
   ],
   "source": [
    "brtable[\"Year\"].apply(str)"
   ]
  },
  {
   "cell_type": "code",
   "execution_count": 103,
   "metadata": {},
   "outputs": [],
   "source": [
    "bre[\"Year\"]=bre[\"Year\"].tolist()\n",
    "bre[\"Year\"]=bre[\"Year\"].to_list()"
   ]
  },
  {
   "cell_type": "code",
   "execution_count": 104,
   "metadata": {},
   "outputs": [],
   "source": [
    "left=pd.merge(brtable,bre[[\"Country Name\",\"Country Code\",\"value\",\"Year\"]],on=[\"Country Name\",\"Year\",\"Country Code\"],how=\"left\")"
   ]
  },
  {
   "cell_type": "code",
   "execution_count": 105,
   "metadata": {},
   "outputs": [
    {
     "data": {
      "text/html": [
       "<div>\n",
       "<style scoped>\n",
       "    .dataframe tbody tr th:only-of-type {\n",
       "        vertical-align: middle;\n",
       "    }\n",
       "\n",
       "    .dataframe tbody tr th {\n",
       "        vertical-align: top;\n",
       "    }\n",
       "\n",
       "    .dataframe thead th {\n",
       "        text-align: right;\n",
       "    }\n",
       "</style>\n",
       "<table border=\"1\" class=\"dataframe\">\n",
       "  <thead>\n",
       "    <tr style=\"text-align: right;\">\n",
       "      <th></th>\n",
       "      <th>Country Name</th>\n",
       "      <th>Country Code</th>\n",
       "      <th>Indicator Name</th>\n",
       "      <th>Indicator Code</th>\n",
       "      <th>Year</th>\n",
       "      <th>value_x</th>\n",
       "      <th>value_y</th>\n",
       "    </tr>\n",
       "  </thead>\n",
       "  <tbody>\n",
       "    <tr>\n",
       "      <th>98</th>\n",
       "      <td>Japan</td>\n",
       "      <td>JPN</td>\n",
       "      <td>PM2.5_WHO</td>\n",
       "      <td>EN.ATM.PM25.MC.ZS</td>\n",
       "      <td>1960</td>\n",
       "      <td>NaN</td>\n",
       "      <td>2.001</td>\n",
       "    </tr>\n",
       "    <tr>\n",
       "      <th>315</th>\n",
       "      <td>Japan</td>\n",
       "      <td>JPN</td>\n",
       "      <td>PM2.5_WHO</td>\n",
       "      <td>EN.ATM.PM25.MC.ZS</td>\n",
       "      <td>1961</td>\n",
       "      <td>NaN</td>\n",
       "      <td>2.050</td>\n",
       "    </tr>\n",
       "    <tr>\n",
       "      <th>532</th>\n",
       "      <td>Japan</td>\n",
       "      <td>JPN</td>\n",
       "      <td>PM2.5_WHO</td>\n",
       "      <td>EN.ATM.PM25.MC.ZS</td>\n",
       "      <td>1962</td>\n",
       "      <td>NaN</td>\n",
       "      <td>2.010</td>\n",
       "    </tr>\n",
       "  </tbody>\n",
       "</table>\n",
       "</div>"
      ],
      "text/plain": [
       "    Country Name Country Code Indicator Name     Indicator Code  Year  \\\n",
       "98         Japan          JPN      PM2.5_WHO  EN.ATM.PM25.MC.ZS  1960   \n",
       "315        Japan          JPN      PM2.5_WHO  EN.ATM.PM25.MC.ZS  1961   \n",
       "532        Japan          JPN      PM2.5_WHO  EN.ATM.PM25.MC.ZS  1962   \n",
       "\n",
       "     value_x  value_y  \n",
       "98       NaN    2.001  \n",
       "315      NaN    2.050  \n",
       "532      NaN    2.010  "
      ]
     },
     "execution_count": 105,
     "metadata": {},
     "output_type": "execute_result"
    }
   ],
   "source": [
    "a1=left[left[\"Country Code\"]==\"JPN\"]\n",
    "a1.head(3)"
   ]
  },
  {
   "cell_type": "code",
   "execution_count": 106,
   "metadata": {},
   "outputs": [
    {
     "data": {
      "text/plain": [
       "-0.20804574340642884"
      ]
     },
     "execution_count": 106,
     "metadata": {},
     "output_type": "execute_result"
    }
   ],
   "source": [
    "a1[(a1[\"value_x\"].notnull())&(a1[\"value_y\"].notnull())].corr().iloc[0,1]"
   ]
  },
  {
   "cell_type": "markdown",
   "metadata": {},
   "source": [
    "## find the correlation between birth rate vs pm2.5_who indicators in each country"
   ]
  },
  {
   "cell_type": "code",
   "execution_count": 107,
   "metadata": {},
   "outputs": [
    {
     "data": {
      "text/html": [
       "<div>\n",
       "<style scoped>\n",
       "    .dataframe tbody tr th:only-of-type {\n",
       "        vertical-align: middle;\n",
       "    }\n",
       "\n",
       "    .dataframe tbody tr th {\n",
       "        vertical-align: top;\n",
       "    }\n",
       "\n",
       "    .dataframe thead th {\n",
       "        text-align: right;\n",
       "    }\n",
       "</style>\n",
       "<table border=\"1\" class=\"dataframe\">\n",
       "  <thead>\n",
       "    <tr style=\"text-align: right;\">\n",
       "      <th></th>\n",
       "      <th>Correlation</th>\n",
       "    </tr>\n",
       "  </thead>\n",
       "  <tbody>\n",
       "    <tr>\n",
       "      <th>count</th>\n",
       "      <td>84.000000</td>\n",
       "    </tr>\n",
       "    <tr>\n",
       "      <th>mean</th>\n",
       "      <td>0.115211</td>\n",
       "    </tr>\n",
       "    <tr>\n",
       "      <th>std</th>\n",
       "      <td>0.497510</td>\n",
       "    </tr>\n",
       "    <tr>\n",
       "      <th>min</th>\n",
       "      <td>-0.949271</td>\n",
       "    </tr>\n",
       "    <tr>\n",
       "      <th>25%</th>\n",
       "      <td>-0.244347</td>\n",
       "    </tr>\n",
       "    <tr>\n",
       "      <th>50%</th>\n",
       "      <td>0.286530</td>\n",
       "    </tr>\n",
       "    <tr>\n",
       "      <th>75%</th>\n",
       "      <td>0.471097</td>\n",
       "    </tr>\n",
       "    <tr>\n",
       "      <th>max</th>\n",
       "      <td>0.880709</td>\n",
       "    </tr>\n",
       "  </tbody>\n",
       "</table>\n",
       "</div>"
      ],
      "text/plain": [
       "       Correlation\n",
       "count    84.000000\n",
       "mean      0.115211\n",
       "std       0.497510\n",
       "min      -0.949271\n",
       "25%      -0.244347\n",
       "50%       0.286530\n",
       "75%       0.471097\n",
       "max       0.880709"
      ]
     },
     "execution_count": 107,
     "metadata": {},
     "output_type": "execute_result"
    }
   ],
   "source": [
    "crbr=[]\n",
    "for i in countrylist:\n",
    "    a1=left[left[\"Country Name\"]==i]\n",
    "    g=a1[(a1[\"value_x\"].notnull())&(a1[\"value_y\"].notnull())].corr().iloc[0,1]\n",
    "    crbr.append([i,g])\n",
    "brtable=df = pd.DataFrame(crbr, columns=[\"Country Name\", \"Correlation\"])\n",
    "brtable.describe()"
   ]
  },
  {
   "cell_type": "markdown",
   "metadata": {},
   "source": [
    "## From here we can say, more than 50% of countries have positive correlation. It means the more exposure to PM2.5_WHO, the birth rate is increased "
   ]
  },
  {
   "cell_type": "markdown",
   "metadata": {},
   "source": [
    "<h4>10.3</h4>\n",
    "<p>Extend the analysis above to find some countries of interest. These are defined as</p>\n",
    "<ul>\n",
    "<li>The countries that have a high mortality rate due to household and ambient air pollution, but with low PM2.5 exposure</li>\n",
    "Answer:\n",
    "# 2 country: FSM(Micronesia, Fed. Sts.) and PNG (Papua New Guinea)\n",
    "\n",
    "<li>The countries that have a low mortality rate due to household and ambient air pollution, but with high PM2.5 exposure</li>\n",
    "\n",
    "Answer:\n",
    "## there is no country \n",
    "</ul>"
   ]
  },
  {
   "cell_type": "markdown",
   "metadata": {
    "tags": [
     "ans_st"
    ]
   },
   "source": [
    "**Answer.**"
   ]
  },
  {
   "cell_type": "markdown",
   "metadata": {},
   "source": [
    "-------"
   ]
  },
  {
   "cell_type": "code",
   "execution_count": 108,
   "metadata": {},
   "outputs": [],
   "source": [
    "# Mortality rate attributed to household and ambient air pollution, age-standardized (SH.STA.AIRP.P5)"
   ]
  },
  {
   "cell_type": "code",
   "execution_count": 109,
   "metadata": {},
   "outputs": [
    {
     "data": {
      "text/html": [
       "<div>\n",
       "<style scoped>\n",
       "    .dataframe tbody tr th:only-of-type {\n",
       "        vertical-align: middle;\n",
       "    }\n",
       "\n",
       "    .dataframe tbody tr th {\n",
       "        vertical-align: top;\n",
       "    }\n",
       "\n",
       "    .dataframe thead th {\n",
       "        text-align: right;\n",
       "    }\n",
       "</style>\n",
       "<table border=\"1\" class=\"dataframe\">\n",
       "  <thead>\n",
       "    <tr style=\"text-align: right;\">\n",
       "      <th></th>\n",
       "      <th>Series Code</th>\n",
       "      <th>Topic</th>\n",
       "      <th>Indicator Name</th>\n",
       "      <th>Short definition</th>\n",
       "      <th>Long definition</th>\n",
       "      <th>Unit of measure</th>\n",
       "      <th>Periodicity</th>\n",
       "      <th>Base Period</th>\n",
       "      <th>Other notes</th>\n",
       "      <th>Aggregation method</th>\n",
       "      <th>...</th>\n",
       "      <th>General comments</th>\n",
       "      <th>Source</th>\n",
       "      <th>Statistical concept and methodology</th>\n",
       "      <th>Development relevance</th>\n",
       "      <th>Related source links</th>\n",
       "      <th>Other web links</th>\n",
       "      <th>Related indicators</th>\n",
       "      <th>License Type</th>\n",
       "      <th>Unnamed: 20</th>\n",
       "      <th>subtopic</th>\n",
       "    </tr>\n",
       "  </thead>\n",
       "  <tbody>\n",
       "    <tr>\n",
       "      <th>247</th>\n",
       "      <td>EN.ATM.PM25.MC.M3</td>\n",
       "      <td>Environment: Emissions</td>\n",
       "      <td>PM2.5 air pollution, mean annual exposure (mic...</td>\n",
       "      <td>NaN</td>\n",
       "      <td>Population-weighted exposure to ambient PM2.5 ...</td>\n",
       "      <td>NaN</td>\n",
       "      <td>Annual</td>\n",
       "      <td>NaN</td>\n",
       "      <td>NaN</td>\n",
       "      <td>Weighted average</td>\n",
       "      <td>...</td>\n",
       "      <td>NaN</td>\n",
       "      <td>Brauer, M. et al. 2017, for the Global Burden ...</td>\n",
       "      <td>A. van Donkelaar, R.V. Martin, M. Brauer, N.C....</td>\n",
       "      <td>Air pollution places a major burden on world h...</td>\n",
       "      <td>NaN</td>\n",
       "      <td>NaN</td>\n",
       "      <td>NaN</td>\n",
       "      <td>CC BY-4.0</td>\n",
       "      <td>NaN</td>\n",
       "      <td>Environment</td>\n",
       "    </tr>\n",
       "    <tr>\n",
       "      <th>248</th>\n",
       "      <td>EN.ATM.PM25.MC.T1.ZS</td>\n",
       "      <td>Environment: Emissions</td>\n",
       "      <td>PM2.5 pollution, population exposed to levels ...</td>\n",
       "      <td>NaN</td>\n",
       "      <td>Percent of population exposed to ambient conce...</td>\n",
       "      <td>NaN</td>\n",
       "      <td>Annual</td>\n",
       "      <td>NaN</td>\n",
       "      <td>NaN</td>\n",
       "      <td>Weighted average</td>\n",
       "      <td>...</td>\n",
       "      <td>NaN</td>\n",
       "      <td>Brauer, M. et al. 2017, for the Global Burden ...</td>\n",
       "      <td>A. van Donkelaar, R.V. Martin, M. Brauer, N.C....</td>\n",
       "      <td>Air pollution places a major burden on world h...</td>\n",
       "      <td>NaN</td>\n",
       "      <td>NaN</td>\n",
       "      <td>NaN</td>\n",
       "      <td>CC BY-4.0</td>\n",
       "      <td>NaN</td>\n",
       "      <td>Environment</td>\n",
       "    </tr>\n",
       "    <tr>\n",
       "      <th>249</th>\n",
       "      <td>EN.ATM.PM25.MC.T2.ZS</td>\n",
       "      <td>Environment: Emissions</td>\n",
       "      <td>PM2.5 pollution, population exposed to levels ...</td>\n",
       "      <td>NaN</td>\n",
       "      <td>Percent of population exposed to ambient conce...</td>\n",
       "      <td>NaN</td>\n",
       "      <td>Annual</td>\n",
       "      <td>NaN</td>\n",
       "      <td>NaN</td>\n",
       "      <td>Weighted average</td>\n",
       "      <td>...</td>\n",
       "      <td>NaN</td>\n",
       "      <td>Brauer, M. et al. 2017, for the Global Burden ...</td>\n",
       "      <td>A. van Donkelaar, R.V. Martin, M. Brauer, N.C....</td>\n",
       "      <td>Air pollution places a major burden on world h...</td>\n",
       "      <td>NaN</td>\n",
       "      <td>NaN</td>\n",
       "      <td>NaN</td>\n",
       "      <td>CC BY-4.0</td>\n",
       "      <td>NaN</td>\n",
       "      <td>Environment</td>\n",
       "    </tr>\n",
       "    <tr>\n",
       "      <th>250</th>\n",
       "      <td>EN.ATM.PM25.MC.T3.ZS</td>\n",
       "      <td>Environment: Emissions</td>\n",
       "      <td>PM2.5 pollution, population exposed to levels ...</td>\n",
       "      <td>NaN</td>\n",
       "      <td>Percent of population exposed to ambient conce...</td>\n",
       "      <td>NaN</td>\n",
       "      <td>Annual</td>\n",
       "      <td>NaN</td>\n",
       "      <td>NaN</td>\n",
       "      <td>Weighted average</td>\n",
       "      <td>...</td>\n",
       "      <td>NaN</td>\n",
       "      <td>Brauer, M. et al. 2017, for the Global Burden ...</td>\n",
       "      <td>A. van Donkelaar, R.V. Martin, M. Brauer, N.C....</td>\n",
       "      <td>Air pollution places a major burden on world h...</td>\n",
       "      <td>NaN</td>\n",
       "      <td>NaN</td>\n",
       "      <td>NaN</td>\n",
       "      <td>CC BY-4.0</td>\n",
       "      <td>NaN</td>\n",
       "      <td>Environment</td>\n",
       "    </tr>\n",
       "    <tr>\n",
       "      <th>251</th>\n",
       "      <td>EN.ATM.PM25.MC.ZS</td>\n",
       "      <td>Environment: Emissions</td>\n",
       "      <td>PM2.5 air pollution, population exposed to lev...</td>\n",
       "      <td>NaN</td>\n",
       "      <td>Percent of population exposed to ambient conce...</td>\n",
       "      <td>NaN</td>\n",
       "      <td>Annual</td>\n",
       "      <td>NaN</td>\n",
       "      <td>NaN</td>\n",
       "      <td>Weighted average</td>\n",
       "      <td>...</td>\n",
       "      <td>NaN</td>\n",
       "      <td>Brauer, M. et al. 2017, for the Global Burden ...</td>\n",
       "      <td>A. van Donkelaar, R.V. Martin, M. Brauer, N.C....</td>\n",
       "      <td>Air pollution places a major burden on world h...</td>\n",
       "      <td>NaN</td>\n",
       "      <td>NaN</td>\n",
       "      <td>NaN</td>\n",
       "      <td>CC BY-4.0</td>\n",
       "      <td>NaN</td>\n",
       "      <td>Environment</td>\n",
       "    </tr>\n",
       "  </tbody>\n",
       "</table>\n",
       "<p>5 rows × 22 columns</p>\n",
       "</div>"
      ],
      "text/plain": [
       "              Series Code                   Topic  \\\n",
       "247     EN.ATM.PM25.MC.M3  Environment: Emissions   \n",
       "248  EN.ATM.PM25.MC.T1.ZS  Environment: Emissions   \n",
       "249  EN.ATM.PM25.MC.T2.ZS  Environment: Emissions   \n",
       "250  EN.ATM.PM25.MC.T3.ZS  Environment: Emissions   \n",
       "251     EN.ATM.PM25.MC.ZS  Environment: Emissions   \n",
       "\n",
       "                                        Indicator Name Short definition  \\\n",
       "247  PM2.5 air pollution, mean annual exposure (mic...              NaN   \n",
       "248  PM2.5 pollution, population exposed to levels ...              NaN   \n",
       "249  PM2.5 pollution, population exposed to levels ...              NaN   \n",
       "250  PM2.5 pollution, population exposed to levels ...              NaN   \n",
       "251  PM2.5 air pollution, population exposed to lev...              NaN   \n",
       "\n",
       "                                       Long definition Unit of measure  \\\n",
       "247  Population-weighted exposure to ambient PM2.5 ...             NaN   \n",
       "248  Percent of population exposed to ambient conce...             NaN   \n",
       "249  Percent of population exposed to ambient conce...             NaN   \n",
       "250  Percent of population exposed to ambient conce...             NaN   \n",
       "251  Percent of population exposed to ambient conce...             NaN   \n",
       "\n",
       "    Periodicity Base Period Other notes Aggregation method  ...  \\\n",
       "247      Annual         NaN         NaN   Weighted average  ...   \n",
       "248      Annual         NaN         NaN   Weighted average  ...   \n",
       "249      Annual         NaN         NaN   Weighted average  ...   \n",
       "250      Annual         NaN         NaN   Weighted average  ...   \n",
       "251      Annual         NaN         NaN   Weighted average  ...   \n",
       "\n",
       "    General comments                                             Source  \\\n",
       "247              NaN  Brauer, M. et al. 2017, for the Global Burden ...   \n",
       "248              NaN  Brauer, M. et al. 2017, for the Global Burden ...   \n",
       "249              NaN  Brauer, M. et al. 2017, for the Global Burden ...   \n",
       "250              NaN  Brauer, M. et al. 2017, for the Global Burden ...   \n",
       "251              NaN  Brauer, M. et al. 2017, for the Global Burden ...   \n",
       "\n",
       "                   Statistical concept and methodology  \\\n",
       "247  A. van Donkelaar, R.V. Martin, M. Brauer, N.C....   \n",
       "248  A. van Donkelaar, R.V. Martin, M. Brauer, N.C....   \n",
       "249  A. van Donkelaar, R.V. Martin, M. Brauer, N.C....   \n",
       "250  A. van Donkelaar, R.V. Martin, M. Brauer, N.C....   \n",
       "251  A. van Donkelaar, R.V. Martin, M. Brauer, N.C....   \n",
       "\n",
       "                                 Development relevance Related source links  \\\n",
       "247  Air pollution places a major burden on world h...                  NaN   \n",
       "248  Air pollution places a major burden on world h...                  NaN   \n",
       "249  Air pollution places a major burden on world h...                  NaN   \n",
       "250  Air pollution places a major burden on world h...                  NaN   \n",
       "251  Air pollution places a major burden on world h...                  NaN   \n",
       "\n",
       "    Other web links Related indicators  License Type Unnamed: 20     subtopic  \n",
       "247             NaN                NaN     CC BY-4.0         NaN  Environment  \n",
       "248             NaN                NaN     CC BY-4.0         NaN  Environment  \n",
       "249             NaN                NaN     CC BY-4.0         NaN  Environment  \n",
       "250             NaN                NaN     CC BY-4.0         NaN  Environment  \n",
       "251             NaN                NaN     CC BY-4.0         NaN  Environment  \n",
       "\n",
       "[5 rows x 22 columns]"
      ]
     },
     "execution_count": 109,
     "metadata": {},
     "output_type": "execute_result"
    }
   ],
   "source": [
    "WDI_Series[WDI_Series[\"Indicator Name\"].str.contains(\"PM2.5\")]"
   ]
  },
  {
   "cell_type": "code",
   "execution_count": 110,
   "metadata": {},
   "outputs": [
    {
     "data": {
      "text/plain": [
       "array(['Mortality rate attributed to household and ambient air pollution, age-standardized (per 100,000 population)'],\n",
       "      dtype=object)"
      ]
     },
     "execution_count": 110,
     "metadata": {},
     "output_type": "execute_result"
    }
   ],
   "source": [
    "WDI_Series[WDI_Series[\"Series Code\"]==\"SH.STA.AIRP.P5\"][\"Indicator Name\"].values"
   ]
  },
  {
   "cell_type": "markdown",
   "metadata": {},
   "source": [
    "## get mortality rate"
   ]
  },
  {
   "cell_type": "code",
   "execution_count": 111,
   "metadata": {},
   "outputs": [
    {
     "data": {
      "text/html": [
       "<div>\n",
       "<style scoped>\n",
       "    .dataframe tbody tr th:only-of-type {\n",
       "        vertical-align: middle;\n",
       "    }\n",
       "\n",
       "    .dataframe tbody tr th {\n",
       "        vertical-align: top;\n",
       "    }\n",
       "\n",
       "    .dataframe thead th {\n",
       "        text-align: right;\n",
       "    }\n",
       "</style>\n",
       "<table border=\"1\" class=\"dataframe\">\n",
       "  <thead>\n",
       "    <tr style=\"text-align: right;\">\n",
       "      <th></th>\n",
       "      <th>Country Name</th>\n",
       "      <th>Country Code</th>\n",
       "      <th>Indicator Name</th>\n",
       "      <th>Indicator Code</th>\n",
       "      <th>1960</th>\n",
       "      <th>1961</th>\n",
       "      <th>1962</th>\n",
       "      <th>1963</th>\n",
       "      <th>1964</th>\n",
       "      <th>1965</th>\n",
       "      <th>...</th>\n",
       "      <th>2011</th>\n",
       "      <th>2012</th>\n",
       "      <th>2013</th>\n",
       "      <th>2014</th>\n",
       "      <th>2015</th>\n",
       "      <th>2016</th>\n",
       "      <th>2017</th>\n",
       "      <th>2018</th>\n",
       "      <th>2019</th>\n",
       "      <th>Unnamed: 64</th>\n",
       "    </tr>\n",
       "  </thead>\n",
       "  <tbody>\n",
       "    <tr>\n",
       "      <th>788</th>\n",
       "      <td>Arab World</td>\n",
       "      <td>ARB</td>\n",
       "      <td>Mortality rate attributed to household and amb...</td>\n",
       "      <td>SH.STA.AIRP.P5</td>\n",
       "      <td>NaN</td>\n",
       "      <td>NaN</td>\n",
       "      <td>NaN</td>\n",
       "      <td>NaN</td>\n",
       "      <td>NaN</td>\n",
       "      <td>NaN</td>\n",
       "      <td>...</td>\n",
       "      <td>NaN</td>\n",
       "      <td>NaN</td>\n",
       "      <td>NaN</td>\n",
       "      <td>NaN</td>\n",
       "      <td>NaN</td>\n",
       "      <td>101.932592</td>\n",
       "      <td>NaN</td>\n",
       "      <td>NaN</td>\n",
       "      <td>NaN</td>\n",
       "      <td>NaN</td>\n",
       "    </tr>\n",
       "    <tr>\n",
       "      <th>2217</th>\n",
       "      <td>Caribbean small states</td>\n",
       "      <td>CSS</td>\n",
       "      <td>Mortality rate attributed to household and amb...</td>\n",
       "      <td>SH.STA.AIRP.P5</td>\n",
       "      <td>NaN</td>\n",
       "      <td>NaN</td>\n",
       "      <td>NaN</td>\n",
       "      <td>NaN</td>\n",
       "      <td>NaN</td>\n",
       "      <td>NaN</td>\n",
       "      <td>...</td>\n",
       "      <td>NaN</td>\n",
       "      <td>NaN</td>\n",
       "      <td>NaN</td>\n",
       "      <td>NaN</td>\n",
       "      <td>NaN</td>\n",
       "      <td>42.299061</td>\n",
       "      <td>NaN</td>\n",
       "      <td>NaN</td>\n",
       "      <td>NaN</td>\n",
       "      <td>NaN</td>\n",
       "    </tr>\n",
       "  </tbody>\n",
       "</table>\n",
       "<p>2 rows × 65 columns</p>\n",
       "</div>"
      ],
      "text/plain": [
       "                Country Name Country Code  \\\n",
       "788               Arab World          ARB   \n",
       "2217  Caribbean small states          CSS   \n",
       "\n",
       "                                         Indicator Name  Indicator Code  1960  \\\n",
       "788   Mortality rate attributed to household and amb...  SH.STA.AIRP.P5   NaN   \n",
       "2217  Mortality rate attributed to household and amb...  SH.STA.AIRP.P5   NaN   \n",
       "\n",
       "      1961  1962  1963  1964  1965  ...  2011  2012  2013  2014  2015  \\\n",
       "788    NaN   NaN   NaN   NaN   NaN  ...   NaN   NaN   NaN   NaN   NaN   \n",
       "2217   NaN   NaN   NaN   NaN   NaN  ...   NaN   NaN   NaN   NaN   NaN   \n",
       "\n",
       "            2016  2017  2018  2019  Unnamed: 64  \n",
       "788   101.932592   NaN   NaN   NaN          NaN  \n",
       "2217   42.299061   NaN   NaN   NaN          NaN  \n",
       "\n",
       "[2 rows x 65 columns]"
      ]
     },
     "execution_count": 111,
     "metadata": {},
     "output_type": "execute_result"
    }
   ],
   "source": [
    "mr=WDI_data[WDI_data[\"Indicator Code\"]==\"SH.STA.AIRP.P5\"]\n",
    "mr.head(2)"
   ]
  },
  {
   "cell_type": "code",
   "execution_count": 112,
   "metadata": {},
   "outputs": [
    {
     "data": {
      "text/html": [
       "<div>\n",
       "<style scoped>\n",
       "    .dataframe tbody tr th:only-of-type {\n",
       "        vertical-align: middle;\n",
       "    }\n",
       "\n",
       "    .dataframe tbody tr th {\n",
       "        vertical-align: top;\n",
       "    }\n",
       "\n",
       "    .dataframe thead th {\n",
       "        text-align: right;\n",
       "    }\n",
       "</style>\n",
       "<table border=\"1\" class=\"dataframe\">\n",
       "  <thead>\n",
       "    <tr style=\"text-align: right;\">\n",
       "      <th></th>\n",
       "      <th>Country Name</th>\n",
       "      <th>Country Code</th>\n",
       "      <th>Indicator Name</th>\n",
       "      <th>Indicator Code</th>\n",
       "      <th>Year</th>\n",
       "      <th>value</th>\n",
       "    </tr>\n",
       "  </thead>\n",
       "  <tbody>\n",
       "    <tr>\n",
       "      <th>0</th>\n",
       "      <td>Arab World</td>\n",
       "      <td>ARB</td>\n",
       "      <td>Mortality rate attributed to household and amb...</td>\n",
       "      <td>SH.STA.AIRP.P5</td>\n",
       "      <td>1960</td>\n",
       "      <td>NaN</td>\n",
       "    </tr>\n",
       "    <tr>\n",
       "      <th>1</th>\n",
       "      <td>Caribbean small states</td>\n",
       "      <td>CSS</td>\n",
       "      <td>Mortality rate attributed to household and amb...</td>\n",
       "      <td>SH.STA.AIRP.P5</td>\n",
       "      <td>1960</td>\n",
       "      <td>NaN</td>\n",
       "    </tr>\n",
       "  </tbody>\n",
       "</table>\n",
       "</div>"
      ],
      "text/plain": [
       "             Country Name Country Code  \\\n",
       "0              Arab World          ARB   \n",
       "1  Caribbean small states          CSS   \n",
       "\n",
       "                                      Indicator Name  Indicator Code  Year  \\\n",
       "0  Mortality rate attributed to household and amb...  SH.STA.AIRP.P5  1960   \n",
       "1  Mortality rate attributed to household and amb...  SH.STA.AIRP.P5  1960   \n",
       "\n",
       "   value  \n",
       "0    NaN  \n",
       "1    NaN  "
      ]
     },
     "execution_count": 112,
     "metadata": {},
     "output_type": "execute_result"
    }
   ],
   "source": [
    "mre=mr.melt(id_vars=keep,value_vars=co,var_name=[\"Year\"])\n",
    "\n",
    "mre.head(2)"
   ]
  },
  {
   "cell_type": "markdown",
   "metadata": {},
   "source": [
    "## get PM2.5 table"
   ]
  },
  {
   "cell_type": "code",
   "execution_count": 188,
   "metadata": {},
   "outputs": [],
   "source": [
    "brtable1=Emissions_C_df[(Emissions_C_df[\"Indicator Name\"]==\"PM2.5\")&(Emissions_C_df[\"value\"]>0)]\n",
    "brtable1[\"Year\"]=brtable1[\"Year\"].astype(str)\n",
    "d=brtable1[\"Year\"].tolist()\n",
    "brtable1[\"year\"]=d\n",
    "\n",
    "\n"
   ]
  },
  {
   "cell_type": "code",
   "execution_count": 192,
   "metadata": {},
   "outputs": [
    {
     "data": {
      "text/html": [
       "<div>\n",
       "<style scoped>\n",
       "    .dataframe tbody tr th:only-of-type {\n",
       "        vertical-align: middle;\n",
       "    }\n",
       "\n",
       "    .dataframe tbody tr th {\n",
       "        vertical-align: top;\n",
       "    }\n",
       "\n",
       "    .dataframe thead th {\n",
       "        text-align: right;\n",
       "    }\n",
       "</style>\n",
       "<table border=\"1\" class=\"dataframe\">\n",
       "  <thead>\n",
       "    <tr style=\"text-align: right;\">\n",
       "      <th></th>\n",
       "      <th>pm2.5 value</th>\n",
       "      <th>mortality rate value</th>\n",
       "    </tr>\n",
       "  </thead>\n",
       "  <tbody>\n",
       "    <tr>\n",
       "      <th>count</th>\n",
       "      <td>183.000000</td>\n",
       "      <td>183.000000</td>\n",
       "    </tr>\n",
       "    <tr>\n",
       "      <th>mean</th>\n",
       "      <td>27.771519</td>\n",
       "      <td>92.212568</td>\n",
       "    </tr>\n",
       "    <tr>\n",
       "      <th>std</th>\n",
       "      <td>18.672056</td>\n",
       "      <td>71.934490</td>\n",
       "    </tr>\n",
       "    <tr>\n",
       "      <th>min</th>\n",
       "      <td>5.893757</td>\n",
       "      <td>7.000000</td>\n",
       "    </tr>\n",
       "    <tr>\n",
       "      <th>25%</th>\n",
       "      <td>14.759320</td>\n",
       "      <td>33.750000</td>\n",
       "    </tr>\n",
       "    <tr>\n",
       "      <th>50%</th>\n",
       "      <td>22.076552</td>\n",
       "      <td>68.600000</td>\n",
       "    </tr>\n",
       "    <tr>\n",
       "      <th>75%</th>\n",
       "      <td>37.137736</td>\n",
       "      <td>147.000000</td>\n",
       "    </tr>\n",
       "    <tr>\n",
       "      <th>max</th>\n",
       "      <td>98.054714</td>\n",
       "      <td>324.100000</td>\n",
       "    </tr>\n",
       "  </tbody>\n",
       "</table>\n",
       "</div>"
      ],
      "text/plain": [
       "       pm2.5 value  mortality rate value\n",
       "count   183.000000            183.000000\n",
       "mean     27.771519             92.212568\n",
       "std      18.672056             71.934490\n",
       "min       5.893757              7.000000\n",
       "25%      14.759320             33.750000\n",
       "50%      22.076552             68.600000\n",
       "75%      37.137736            147.000000\n",
       "max      98.054714            324.100000"
      ]
     },
     "execution_count": 192,
     "metadata": {},
     "output_type": "execute_result"
    }
   ],
   "source": [
    "mrleft=pd.merge(brtable1,mre[[\"Country Name\",\"Country Code\",\"value\",\"Year\"]],on=[\"Country Name\",\"Year\",\"Country Code\"],how=\"left\")\n",
    "mrleft=mrleft[(mrleft[\"value_x\"].notnull())&(mrleft[\"value_y\"].notnull())]\n",
    "mrleft.rename(columns={'value_x': 'pm2.5 value', 'value_y': 'mortality rate value'}, inplace=True)\n",
    "mrleft.groupby([\"Country Code\"]).mean().describe()"
   ]
  },
  {
   "cell_type": "markdown",
   "metadata": {},
   "source": [
    " From above table, high mortality rate is the country has the rate higher than 147, and low mortality rate is the country has the rate lower than 33.75\n",
    "\n",
    "high PM2.5 exposure rate is the country which has higher than 37.13, and low PM2.5 exposure rate is the country which has\n",
    "lowe PM2.5 exposure rate is the country which has lower than 14.75932"
   ]
  },
  {
   "cell_type": "code",
   "execution_count": 193,
   "metadata": {},
   "outputs": [],
   "source": [
    "mrtb=mrleft.groupby([\"Country Code\"]).mean()"
   ]
  },
  {
   "cell_type": "markdown",
   "metadata": {},
   "source": [
    "# The country has high mortality rate but low PM2.5 exposure"
   ]
  },
  {
   "cell_type": "code",
   "execution_count": 194,
   "metadata": {},
   "outputs": [
    {
     "data": {
      "text/html": [
       "<div>\n",
       "<style scoped>\n",
       "    .dataframe tbody tr th:only-of-type {\n",
       "        vertical-align: middle;\n",
       "    }\n",
       "\n",
       "    .dataframe tbody tr th {\n",
       "        vertical-align: top;\n",
       "    }\n",
       "\n",
       "    .dataframe thead th {\n",
       "        text-align: right;\n",
       "    }\n",
       "</style>\n",
       "<table border=\"1\" class=\"dataframe\">\n",
       "  <thead>\n",
       "    <tr style=\"text-align: right;\">\n",
       "      <th></th>\n",
       "      <th>pm2.5 value</th>\n",
       "      <th>mortality rate value</th>\n",
       "    </tr>\n",
       "    <tr>\n",
       "      <th>Country Code</th>\n",
       "      <th></th>\n",
       "      <th></th>\n",
       "    </tr>\n",
       "  </thead>\n",
       "  <tbody>\n",
       "    <tr>\n",
       "      <th>FSM</th>\n",
       "      <td>11.134511</td>\n",
       "      <td>151.8</td>\n",
       "    </tr>\n",
       "    <tr>\n",
       "      <th>PNG</th>\n",
       "      <td>12.615056</td>\n",
       "      <td>152.0</td>\n",
       "    </tr>\n",
       "  </tbody>\n",
       "</table>\n",
       "</div>"
      ],
      "text/plain": [
       "              pm2.5 value  mortality rate value\n",
       "Country Code                                   \n",
       "FSM             11.134511                 151.8\n",
       "PNG             12.615056                 152.0"
      ]
     },
     "execution_count": 194,
     "metadata": {},
     "output_type": "execute_result"
    }
   ],
   "source": [
    "mrtb[(mrtb[\"mortality rate value\"]>147)&(mrtb[\"pm2.5 value\"]<14.75)]"
   ]
  },
  {
   "cell_type": "markdown",
   "metadata": {},
   "source": [
    "# The country has low mortality rate but high PM2.5 exposure"
   ]
  },
  {
   "cell_type": "code",
   "execution_count": 195,
   "metadata": {},
   "outputs": [
    {
     "data": {
      "text/html": [
       "<div>\n",
       "<style scoped>\n",
       "    .dataframe tbody tr th:only-of-type {\n",
       "        vertical-align: middle;\n",
       "    }\n",
       "\n",
       "    .dataframe tbody tr th {\n",
       "        vertical-align: top;\n",
       "    }\n",
       "\n",
       "    .dataframe thead th {\n",
       "        text-align: right;\n",
       "    }\n",
       "</style>\n",
       "<table border=\"1\" class=\"dataframe\">\n",
       "  <thead>\n",
       "    <tr style=\"text-align: right;\">\n",
       "      <th></th>\n",
       "      <th>pm2.5 value</th>\n",
       "      <th>mortality rate value</th>\n",
       "    </tr>\n",
       "    <tr>\n",
       "      <th>Country Code</th>\n",
       "      <th></th>\n",
       "      <th></th>\n",
       "    </tr>\n",
       "  </thead>\n",
       "  <tbody>\n",
       "  </tbody>\n",
       "</table>\n",
       "</div>"
      ],
      "text/plain": [
       "Empty DataFrame\n",
       "Columns: [pm2.5 value, mortality rate value]\n",
       "Index: []"
      ]
     },
     "execution_count": 195,
     "metadata": {},
     "output_type": "execute_result"
    }
   ],
   "source": [
    "mrtb[(mrtb[\"mortality rate value\"]<33.75)&(mrtb[\"pm2.5 value\"]>37.13)]"
   ]
  },
  {
   "cell_type": "markdown",
   "metadata": {},
   "source": [
    "<h4>10.4</h4>\n",
    "<p>Finally, we want to look at the mortality data by income. We expect higher income countries to have lower pollution-related mortality. Find out if this assumption holds. Calculate summary statistics and histograms for each income category and note any trends.</p>"
   ]
  },
  {
   "cell_type": "markdown",
   "metadata": {
    "tags": [
     "ans_st"
    ]
   },
   "source": [
    "**Answer.**"
   ]
  },
  {
   "cell_type": "markdown",
   "metadata": {},
   "source": [
    "-------"
   ]
  },
  {
   "cell_type": "code",
   "execution_count": 196,
   "metadata": {},
   "outputs": [],
   "source": [
    "incomeleft=pd.merge(mrtb,WDI_country[[\"Country Code\",\"Income Group\"]],on=[\"Country Code\"],how=\"left\")\n"
   ]
  },
  {
   "cell_type": "code",
   "execution_count": 197,
   "metadata": {},
   "outputs": [
    {
     "data": {
      "text/html": [
       "<div>\n",
       "<style scoped>\n",
       "    .dataframe tbody tr th:only-of-type {\n",
       "        vertical-align: middle;\n",
       "    }\n",
       "\n",
       "    .dataframe tbody tr th {\n",
       "        vertical-align: top;\n",
       "    }\n",
       "\n",
       "    .dataframe thead th {\n",
       "        text-align: right;\n",
       "    }\n",
       "</style>\n",
       "<table border=\"1\" class=\"dataframe\">\n",
       "  <thead>\n",
       "    <tr style=\"text-align: right;\">\n",
       "      <th></th>\n",
       "      <th>pm2.5 value</th>\n",
       "      <th>mortality rate value</th>\n",
       "    </tr>\n",
       "  </thead>\n",
       "  <tbody>\n",
       "    <tr>\n",
       "      <th>count</th>\n",
       "      <td>52.000000</td>\n",
       "      <td>52.000000</td>\n",
       "    </tr>\n",
       "    <tr>\n",
       "      <th>mean</th>\n",
       "      <td>19.154392</td>\n",
       "      <td>25.142308</td>\n",
       "    </tr>\n",
       "    <tr>\n",
       "      <th>std</th>\n",
       "      <td>18.383447</td>\n",
       "      <td>19.123534</td>\n",
       "    </tr>\n",
       "    <tr>\n",
       "      <th>min</th>\n",
       "      <td>5.893757</td>\n",
       "      <td>7.000000</td>\n",
       "    </tr>\n",
       "    <tr>\n",
       "      <th>25%</th>\n",
       "      <td>9.577464</td>\n",
       "      <td>11.900000</td>\n",
       "    </tr>\n",
       "    <tr>\n",
       "      <th>50%</th>\n",
       "      <td>13.140280</td>\n",
       "      <td>20.000000</td>\n",
       "    </tr>\n",
       "    <tr>\n",
       "      <th>75%</th>\n",
       "      <td>19.199308</td>\n",
       "      <td>33.625000</td>\n",
       "    </tr>\n",
       "    <tr>\n",
       "      <th>max</th>\n",
       "      <td>88.222447</td>\n",
       "      <td>103.800000</td>\n",
       "    </tr>\n",
       "  </tbody>\n",
       "</table>\n",
       "</div>"
      ],
      "text/plain": [
       "       pm2.5 value  mortality rate value\n",
       "count    52.000000             52.000000\n",
       "mean     19.154392             25.142308\n",
       "std      18.383447             19.123534\n",
       "min       5.893757              7.000000\n",
       "25%       9.577464             11.900000\n",
       "50%      13.140280             20.000000\n",
       "75%      19.199308             33.625000\n",
       "max      88.222447            103.800000"
      ]
     },
     "execution_count": 197,
     "metadata": {},
     "output_type": "execute_result"
    }
   ],
   "source": [
    "incomeleft[incomeleft[\"Income Group\"]==\"High income\"].describe()"
   ]
  },
  {
   "cell_type": "markdown",
   "metadata": {},
   "source": [
    "From this table , we can say the expectation is hold. Because 75% countries in high income group has the average of mortality rate of high income is lower than 33.75. "
   ]
  },
  {
   "cell_type": "markdown",
   "metadata": {},
   "source": [
    "# Statistics for each income category"
   ]
  },
  {
   "cell_type": "code",
   "execution_count": 198,
   "metadata": {},
   "outputs": [
    {
     "data": {
      "text/plain": [
       "array(['Low income', 'Lower middle income', 'Upper middle income',\n",
       "       'High income'], dtype=object)"
      ]
     },
     "execution_count": 198,
     "metadata": {},
     "output_type": "execute_result"
    }
   ],
   "source": [
    "incomeleft[\"Income Group\"].unique()"
   ]
  },
  {
   "cell_type": "code",
   "execution_count": 199,
   "metadata": {},
   "outputs": [
    {
     "data": {
      "text/plain": [
       "<AxesSubplot:xlabel='Income Group', ylabel='mortality rate value'>"
      ]
     },
     "execution_count": 199,
     "metadata": {},
     "output_type": "execute_result"
    },
    {
     "data": {
      "image/png": "[encoded data removed]",
      "text/plain": [
       "<Figure size 432x288 with 1 Axes>"
      ]
     },
     "metadata": {
      "needs_background": "light"
     },
     "output_type": "display_data"
    }
   ],
   "source": [
    "sns.boxplot(x='Income Group',y='mortality rate value',data=incomeleft)"
   ]
  },
  {
   "cell_type": "markdown",
   "metadata": {},
   "source": [
    "## From this plot, we can say, lower income country will have higher mortality rate."
   ]
  },
  {
   "cell_type": "markdown",
   "metadata": {},
   "source": [
    "<h4>10.5</h4>\n",
    "<p>At the start, we asked some questions. Based on your analysis, provide a short answer to each of these:</p>\n",
    "<ol>\n",
    "<li>Are we making any progress in reducing the amount of emitted pollutants across the globe?</li>\n",
    "<li>Which are the critical regions where we should start environmental campaigns?</li>\n",
    "<li>Are we making any progress in the prevention of deaths related to air pollution?</li>\n",
    "<li>Which demographic characteristics seem to correlate with the number of health-related issues derived from air pollution? </li>\n",
    "</ol>"
   ]
  },
  {
   "cell_type": "markdown",
   "metadata": {
    "tags": [
     "ans_st"
    ]
   },
   "source": [
    "**Answer.**"
   ]
  },
  {
   "cell_type": "markdown",
   "metadata": {},
   "source": [
    "-------\n",
    "## 1) In overall, we are making some progress in reducing the amount of emitted pollutant accross the globe, but it is not sufficient. This progress stop the increasing of the amount of gas emissions, but did not descrease the emissions rate significantly.\n",
    "\n",
    "## 2) East Asia & Pacific and are the critical regions where we should start the environmental campaigns, because their missions rate is increasing rapidly. EUro and central Asia is the second regions.\n",
    "\n",
    "## 3) Yes, they are, but it is only in most of high income countries. In low in income countries, there is no progress in the prevention of deaths related to pollution\n",
    "\n",
    "## 4) Low income countries seem to correlate with the number of health-related issues."
   ]
  }
 ],
 "metadata": {
  "interpreter": {
   "hash": "2acea0c62ed65184894ad9dda043f6aca8b011baba288afb0d9aec8100b21f24"
  },
  "kernelspec": {
   "display_name": "Python 3.9.5 64-bit ('calculator-KBkRpKlT': pipenv)",
   "name": "python3"
  },
  "language_info": {
   "codemirror_mode": {
    "name": "ipython",
    "version": 3
   },
   "file_extension": ".py",
   "mimetype": "text/x-python",
   "name": "python",
   "nbconvert_exporter": "python",
   "pygments_lexer": "ipython3",
   "version": "3.9.5"
  }
 },
 "nbformat": 4,
 "nbformat_minor": 2
}
